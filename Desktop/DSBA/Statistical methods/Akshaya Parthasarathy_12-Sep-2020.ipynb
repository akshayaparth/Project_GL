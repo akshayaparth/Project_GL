{
 "cells": [
  {
   "cell_type": "code",
   "execution_count": 1,
   "metadata": {},
   "outputs": [],
   "source": [
    "# Import necessary libraries\n",
    "\n",
    "import numpy as np\n",
    "import pandas as pd\n",
    "import matplotlib.pyplot as plt\n",
    "import seaborn as sns\n",
    "import scipy.stats as stats\n",
    "from   scipy.stats               import ttest_1samp, ttest_ind\n",
    "%matplotlib inline\n",
    "\n",
    "# Remove warnings\n",
    "\n",
    "import warnings\n",
    "warnings.filterwarnings('ignore')"
   ]
  },
  {
   "cell_type": "markdown",
   "metadata": {},
   "source": [
    "#### <u> Problem 1 <u> :\n",
    "\n",
    "##### <u> Wholesale Customers Analysis<u>\n",
    "\n",
    "###### Problem Statement:\n",
    "    A wholesale distributor operating in different regions of Portugal has information on annual spending of several items in their stores across different regions and channels. The data consists of 440 large retailers’ annual spending on 6 different varieties of products in 3 different regions (Lisbon, Oporto, Other) and across different sales channel (Hotel, Retail)."
   ]
  },
  {
   "cell_type": "code",
   "execution_count": 2,
   "metadata": {
    "scrolled": true
   },
   "outputs": [
    {
     "data": {
      "text/html": [
       "<div>\n",
       "<style scoped>\n",
       "    .dataframe tbody tr th:only-of-type {\n",
       "        vertical-align: middle;\n",
       "    }\n",
       "\n",
       "    .dataframe tbody tr th {\n",
       "        vertical-align: top;\n",
       "    }\n",
       "\n",
       "    .dataframe thead th {\n",
       "        text-align: right;\n",
       "    }\n",
       "</style>\n",
       "<table border=\"1\" class=\"dataframe\">\n",
       "  <thead>\n",
       "    <tr style=\"text-align: right;\">\n",
       "      <th></th>\n",
       "      <th>Buyer/Spender</th>\n",
       "      <th>Channel</th>\n",
       "      <th>Region</th>\n",
       "      <th>Fresh</th>\n",
       "      <th>Milk</th>\n",
       "      <th>Grocery</th>\n",
       "      <th>Frozen</th>\n",
       "      <th>Detergents_Paper</th>\n",
       "      <th>Delicatessen</th>\n",
       "    </tr>\n",
       "  </thead>\n",
       "  <tbody>\n",
       "    <tr>\n",
       "      <th>0</th>\n",
       "      <td>1</td>\n",
       "      <td>Retail</td>\n",
       "      <td>Other</td>\n",
       "      <td>12669</td>\n",
       "      <td>9656</td>\n",
       "      <td>7561</td>\n",
       "      <td>214</td>\n",
       "      <td>2674</td>\n",
       "      <td>1338</td>\n",
       "    </tr>\n",
       "    <tr>\n",
       "      <th>1</th>\n",
       "      <td>2</td>\n",
       "      <td>Retail</td>\n",
       "      <td>Other</td>\n",
       "      <td>7057</td>\n",
       "      <td>9810</td>\n",
       "      <td>9568</td>\n",
       "      <td>1762</td>\n",
       "      <td>3293</td>\n",
       "      <td>1776</td>\n",
       "    </tr>\n",
       "    <tr>\n",
       "      <th>2</th>\n",
       "      <td>3</td>\n",
       "      <td>Retail</td>\n",
       "      <td>Other</td>\n",
       "      <td>6353</td>\n",
       "      <td>8808</td>\n",
       "      <td>7684</td>\n",
       "      <td>2405</td>\n",
       "      <td>3516</td>\n",
       "      <td>7844</td>\n",
       "    </tr>\n",
       "    <tr>\n",
       "      <th>3</th>\n",
       "      <td>4</td>\n",
       "      <td>Hotel</td>\n",
       "      <td>Other</td>\n",
       "      <td>13265</td>\n",
       "      <td>1196</td>\n",
       "      <td>4221</td>\n",
       "      <td>6404</td>\n",
       "      <td>507</td>\n",
       "      <td>1788</td>\n",
       "    </tr>\n",
       "    <tr>\n",
       "      <th>4</th>\n",
       "      <td>5</td>\n",
       "      <td>Retail</td>\n",
       "      <td>Other</td>\n",
       "      <td>22615</td>\n",
       "      <td>5410</td>\n",
       "      <td>7198</td>\n",
       "      <td>3915</td>\n",
       "      <td>1777</td>\n",
       "      <td>5185</td>\n",
       "    </tr>\n",
       "  </tbody>\n",
       "</table>\n",
       "</div>"
      ],
      "text/plain": [
       "   Buyer/Spender Channel Region  Fresh  Milk  Grocery  Frozen  \\\n",
       "0              1  Retail  Other  12669  9656     7561     214   \n",
       "1              2  Retail  Other   7057  9810     9568    1762   \n",
       "2              3  Retail  Other   6353  8808     7684    2405   \n",
       "3              4   Hotel  Other  13265  1196     4221    6404   \n",
       "4              5  Retail  Other  22615  5410     7198    3915   \n",
       "\n",
       "   Detergents_Paper  Delicatessen  \n",
       "0              2674          1338  \n",
       "1              3293          1776  \n",
       "2              3516          7844  \n",
       "3               507          1788  \n",
       "4              1777          5185  "
      ]
     },
     "execution_count": 2,
     "metadata": {},
     "output_type": "execute_result"
    }
   ],
   "source": [
    "# Load the Wholesale distributer dataset\n",
    "\n",
    "wsale = pd.read_csv('Wholesale Customer.csv')\n",
    "wsale.head() # check whether the data is loaded correctly"
   ]
  },
  {
   "cell_type": "code",
   "execution_count": 3,
   "metadata": {},
   "outputs": [],
   "source": [
    "# Making Buyer/Spender as index\n",
    "\n",
    "wsale.set_index('Buyer/Spender', inplace = True)"
   ]
  },
  {
   "cell_type": "code",
   "execution_count": 4,
   "metadata": {},
   "outputs": [
    {
     "data": {
      "text/html": [
       "<div>\n",
       "<style scoped>\n",
       "    .dataframe tbody tr th:only-of-type {\n",
       "        vertical-align: middle;\n",
       "    }\n",
       "\n",
       "    .dataframe tbody tr th {\n",
       "        vertical-align: top;\n",
       "    }\n",
       "\n",
       "    .dataframe thead th {\n",
       "        text-align: right;\n",
       "    }\n",
       "</style>\n",
       "<table border=\"1\" class=\"dataframe\">\n",
       "  <thead>\n",
       "    <tr style=\"text-align: right;\">\n",
       "      <th></th>\n",
       "      <th>Channel</th>\n",
       "      <th>Region</th>\n",
       "      <th>Fresh</th>\n",
       "      <th>Milk</th>\n",
       "      <th>Grocery</th>\n",
       "      <th>Frozen</th>\n",
       "      <th>Detergents_Paper</th>\n",
       "      <th>Delicatessen</th>\n",
       "    </tr>\n",
       "    <tr>\n",
       "      <th>Buyer/Spender</th>\n",
       "      <th></th>\n",
       "      <th></th>\n",
       "      <th></th>\n",
       "      <th></th>\n",
       "      <th></th>\n",
       "      <th></th>\n",
       "      <th></th>\n",
       "      <th></th>\n",
       "    </tr>\n",
       "  </thead>\n",
       "  <tbody>\n",
       "    <tr>\n",
       "      <th>436</th>\n",
       "      <td>Hotel</td>\n",
       "      <td>Other</td>\n",
       "      <td>29703</td>\n",
       "      <td>12051</td>\n",
       "      <td>16027</td>\n",
       "      <td>13135</td>\n",
       "      <td>182</td>\n",
       "      <td>2204</td>\n",
       "    </tr>\n",
       "    <tr>\n",
       "      <th>437</th>\n",
       "      <td>Hotel</td>\n",
       "      <td>Other</td>\n",
       "      <td>39228</td>\n",
       "      <td>1431</td>\n",
       "      <td>764</td>\n",
       "      <td>4510</td>\n",
       "      <td>93</td>\n",
       "      <td>2346</td>\n",
       "    </tr>\n",
       "    <tr>\n",
       "      <th>438</th>\n",
       "      <td>Retail</td>\n",
       "      <td>Other</td>\n",
       "      <td>14531</td>\n",
       "      <td>15488</td>\n",
       "      <td>30243</td>\n",
       "      <td>437</td>\n",
       "      <td>14841</td>\n",
       "      <td>1867</td>\n",
       "    </tr>\n",
       "    <tr>\n",
       "      <th>439</th>\n",
       "      <td>Hotel</td>\n",
       "      <td>Other</td>\n",
       "      <td>10290</td>\n",
       "      <td>1981</td>\n",
       "      <td>2232</td>\n",
       "      <td>1038</td>\n",
       "      <td>168</td>\n",
       "      <td>2125</td>\n",
       "    </tr>\n",
       "    <tr>\n",
       "      <th>440</th>\n",
       "      <td>Hotel</td>\n",
       "      <td>Other</td>\n",
       "      <td>2787</td>\n",
       "      <td>1698</td>\n",
       "      <td>2510</td>\n",
       "      <td>65</td>\n",
       "      <td>477</td>\n",
       "      <td>52</td>\n",
       "    </tr>\n",
       "  </tbody>\n",
       "</table>\n",
       "</div>"
      ],
      "text/plain": [
       "              Channel Region  Fresh   Milk  Grocery  Frozen  Detergents_Paper  \\\n",
       "Buyer/Spender                                                                   \n",
       "436             Hotel  Other  29703  12051    16027   13135               182   \n",
       "437             Hotel  Other  39228   1431      764    4510                93   \n",
       "438            Retail  Other  14531  15488    30243     437             14841   \n",
       "439             Hotel  Other  10290   1981     2232    1038               168   \n",
       "440             Hotel  Other   2787   1698     2510      65               477   \n",
       "\n",
       "               Delicatessen  \n",
       "Buyer/Spender                \n",
       "436                    2204  \n",
       "437                    2346  \n",
       "438                    1867  \n",
       "439                    2125  \n",
       "440                      52  "
      ]
     },
     "execution_count": 4,
     "metadata": {},
     "output_type": "execute_result"
    }
   ],
   "source": [
    "wsale.tail() #end of data"
   ]
  },
  {
   "cell_type": "code",
   "execution_count": 5,
   "metadata": {},
   "outputs": [
    {
     "name": "stdout",
     "output_type": "stream",
     "text": [
      "<class 'pandas.core.frame.DataFrame'>\n",
      "Int64Index: 440 entries, 1 to 440\n",
      "Data columns (total 8 columns):\n",
      " #   Column            Non-Null Count  Dtype \n",
      "---  ------            --------------  ----- \n",
      " 0   Channel           440 non-null    object\n",
      " 1   Region            440 non-null    object\n",
      " 2   Fresh             440 non-null    int64 \n",
      " 3   Milk              440 non-null    int64 \n",
      " 4   Grocery           440 non-null    int64 \n",
      " 5   Frozen            440 non-null    int64 \n",
      " 6   Detergents_Paper  440 non-null    int64 \n",
      " 7   Delicatessen      440 non-null    int64 \n",
      "dtypes: int64(6), object(2)\n",
      "memory usage: 30.9+ KB\n"
     ]
    }
   ],
   "source": [
    "# Information about the dataset\n",
    "\n",
    "wsale.info()"
   ]
  },
  {
   "cell_type": "markdown",
   "metadata": {},
   "source": [
    "<b> 1.1 Use methods of descriptive statistics to summarize data. Which Region and which Channel seems to spend more? Which Region and which Channel seems to spend less? <b>"
   ]
  },
  {
   "cell_type": "code",
   "execution_count": 6,
   "metadata": {
    "scrolled": true
   },
   "outputs": [
    {
     "data": {
      "text/html": [
       "<div>\n",
       "<style scoped>\n",
       "    .dataframe tbody tr th:only-of-type {\n",
       "        vertical-align: middle;\n",
       "    }\n",
       "\n",
       "    .dataframe tbody tr th {\n",
       "        vertical-align: top;\n",
       "    }\n",
       "\n",
       "    .dataframe thead th {\n",
       "        text-align: right;\n",
       "    }\n",
       "</style>\n",
       "<table border=\"1\" class=\"dataframe\">\n",
       "  <thead>\n",
       "    <tr style=\"text-align: right;\">\n",
       "      <th></th>\n",
       "      <th>Channel</th>\n",
       "      <th>Region</th>\n",
       "      <th>Fresh</th>\n",
       "      <th>Milk</th>\n",
       "      <th>Grocery</th>\n",
       "      <th>Frozen</th>\n",
       "      <th>Detergents_Paper</th>\n",
       "      <th>Delicatessen</th>\n",
       "    </tr>\n",
       "  </thead>\n",
       "  <tbody>\n",
       "    <tr>\n",
       "      <th>count</th>\n",
       "      <td>440</td>\n",
       "      <td>440</td>\n",
       "      <td>440.000000</td>\n",
       "      <td>440.000000</td>\n",
       "      <td>440.000000</td>\n",
       "      <td>440.000000</td>\n",
       "      <td>440.000000</td>\n",
       "      <td>440.000000</td>\n",
       "    </tr>\n",
       "    <tr>\n",
       "      <th>unique</th>\n",
       "      <td>2</td>\n",
       "      <td>3</td>\n",
       "      <td>NaN</td>\n",
       "      <td>NaN</td>\n",
       "      <td>NaN</td>\n",
       "      <td>NaN</td>\n",
       "      <td>NaN</td>\n",
       "      <td>NaN</td>\n",
       "    </tr>\n",
       "    <tr>\n",
       "      <th>top</th>\n",
       "      <td>Hotel</td>\n",
       "      <td>Other</td>\n",
       "      <td>NaN</td>\n",
       "      <td>NaN</td>\n",
       "      <td>NaN</td>\n",
       "      <td>NaN</td>\n",
       "      <td>NaN</td>\n",
       "      <td>NaN</td>\n",
       "    </tr>\n",
       "    <tr>\n",
       "      <th>freq</th>\n",
       "      <td>298</td>\n",
       "      <td>316</td>\n",
       "      <td>NaN</td>\n",
       "      <td>NaN</td>\n",
       "      <td>NaN</td>\n",
       "      <td>NaN</td>\n",
       "      <td>NaN</td>\n",
       "      <td>NaN</td>\n",
       "    </tr>\n",
       "    <tr>\n",
       "      <th>mean</th>\n",
       "      <td>NaN</td>\n",
       "      <td>NaN</td>\n",
       "      <td>12000.297727</td>\n",
       "      <td>5796.265909</td>\n",
       "      <td>7951.277273</td>\n",
       "      <td>3071.931818</td>\n",
       "      <td>2881.493182</td>\n",
       "      <td>1524.870455</td>\n",
       "    </tr>\n",
       "    <tr>\n",
       "      <th>std</th>\n",
       "      <td>NaN</td>\n",
       "      <td>NaN</td>\n",
       "      <td>12647.328865</td>\n",
       "      <td>7380.377175</td>\n",
       "      <td>9503.162829</td>\n",
       "      <td>4854.673333</td>\n",
       "      <td>4767.854448</td>\n",
       "      <td>2820.105937</td>\n",
       "    </tr>\n",
       "    <tr>\n",
       "      <th>min</th>\n",
       "      <td>NaN</td>\n",
       "      <td>NaN</td>\n",
       "      <td>3.000000</td>\n",
       "      <td>55.000000</td>\n",
       "      <td>3.000000</td>\n",
       "      <td>25.000000</td>\n",
       "      <td>3.000000</td>\n",
       "      <td>3.000000</td>\n",
       "    </tr>\n",
       "    <tr>\n",
       "      <th>25%</th>\n",
       "      <td>NaN</td>\n",
       "      <td>NaN</td>\n",
       "      <td>3127.750000</td>\n",
       "      <td>1533.000000</td>\n",
       "      <td>2153.000000</td>\n",
       "      <td>742.250000</td>\n",
       "      <td>256.750000</td>\n",
       "      <td>408.250000</td>\n",
       "    </tr>\n",
       "    <tr>\n",
       "      <th>50%</th>\n",
       "      <td>NaN</td>\n",
       "      <td>NaN</td>\n",
       "      <td>8504.000000</td>\n",
       "      <td>3627.000000</td>\n",
       "      <td>4755.500000</td>\n",
       "      <td>1526.000000</td>\n",
       "      <td>816.500000</td>\n",
       "      <td>965.500000</td>\n",
       "    </tr>\n",
       "    <tr>\n",
       "      <th>75%</th>\n",
       "      <td>NaN</td>\n",
       "      <td>NaN</td>\n",
       "      <td>16933.750000</td>\n",
       "      <td>7190.250000</td>\n",
       "      <td>10655.750000</td>\n",
       "      <td>3554.250000</td>\n",
       "      <td>3922.000000</td>\n",
       "      <td>1820.250000</td>\n",
       "    </tr>\n",
       "    <tr>\n",
       "      <th>max</th>\n",
       "      <td>NaN</td>\n",
       "      <td>NaN</td>\n",
       "      <td>112151.000000</td>\n",
       "      <td>73498.000000</td>\n",
       "      <td>92780.000000</td>\n",
       "      <td>60869.000000</td>\n",
       "      <td>40827.000000</td>\n",
       "      <td>47943.000000</td>\n",
       "    </tr>\n",
       "  </tbody>\n",
       "</table>\n",
       "</div>"
      ],
      "text/plain": [
       "       Channel Region          Fresh          Milk       Grocery  \\\n",
       "count      440    440     440.000000    440.000000    440.000000   \n",
       "unique       2      3            NaN           NaN           NaN   \n",
       "top      Hotel  Other            NaN           NaN           NaN   \n",
       "freq       298    316            NaN           NaN           NaN   \n",
       "mean       NaN    NaN   12000.297727   5796.265909   7951.277273   \n",
       "std        NaN    NaN   12647.328865   7380.377175   9503.162829   \n",
       "min        NaN    NaN       3.000000     55.000000      3.000000   \n",
       "25%        NaN    NaN    3127.750000   1533.000000   2153.000000   \n",
       "50%        NaN    NaN    8504.000000   3627.000000   4755.500000   \n",
       "75%        NaN    NaN   16933.750000   7190.250000  10655.750000   \n",
       "max        NaN    NaN  112151.000000  73498.000000  92780.000000   \n",
       "\n",
       "              Frozen  Detergents_Paper  Delicatessen  \n",
       "count     440.000000        440.000000    440.000000  \n",
       "unique           NaN               NaN           NaN  \n",
       "top              NaN               NaN           NaN  \n",
       "freq             NaN               NaN           NaN  \n",
       "mean     3071.931818       2881.493182   1524.870455  \n",
       "std      4854.673333       4767.854448   2820.105937  \n",
       "min        25.000000          3.000000      3.000000  \n",
       "25%       742.250000        256.750000    408.250000  \n",
       "50%      1526.000000        816.500000    965.500000  \n",
       "75%      3554.250000       3922.000000   1820.250000  \n",
       "max     60869.000000      40827.000000  47943.000000  "
      ]
     },
     "execution_count": 6,
     "metadata": {},
     "output_type": "execute_result"
    }
   ],
   "source": [
    "wsale.describe(include = 'all') #Summarize the data"
   ]
  },
  {
   "cell_type": "code",
   "execution_count": 7,
   "metadata": {},
   "outputs": [
    {
     "data": {
      "text/plain": [
       "Index(['Fresh', 'Milk', 'Grocery', 'Frozen', 'Detergents_Paper',\n",
       "       'Delicatessen'],\n",
       "      dtype='object')"
      ]
     },
     "execution_count": 7,
     "metadata": {},
     "output_type": "execute_result"
    }
   ],
   "source": [
    "items = wsale.dtypes[wsale.dtypes != 'object'].index\n",
    "items"
   ]
  },
  {
   "cell_type": "code",
   "execution_count": 8,
   "metadata": {},
   "outputs": [
    {
     "data": {
      "text/html": [
       "<div>\n",
       "<style scoped>\n",
       "    .dataframe tbody tr th:only-of-type {\n",
       "        vertical-align: middle;\n",
       "    }\n",
       "\n",
       "    .dataframe tbody tr th {\n",
       "        vertical-align: top;\n",
       "    }\n",
       "\n",
       "    .dataframe thead th {\n",
       "        text-align: right;\n",
       "    }\n",
       "</style>\n",
       "<table border=\"1\" class=\"dataframe\">\n",
       "  <thead>\n",
       "    <tr style=\"text-align: right;\">\n",
       "      <th></th>\n",
       "      <th>Channel</th>\n",
       "      <th>Region</th>\n",
       "      <th>Fresh</th>\n",
       "      <th>Milk</th>\n",
       "      <th>Grocery</th>\n",
       "      <th>Frozen</th>\n",
       "      <th>Detergents_Paper</th>\n",
       "      <th>Delicatessen</th>\n",
       "      <th>Total Spend</th>\n",
       "    </tr>\n",
       "    <tr>\n",
       "      <th>Buyer/Spender</th>\n",
       "      <th></th>\n",
       "      <th></th>\n",
       "      <th></th>\n",
       "      <th></th>\n",
       "      <th></th>\n",
       "      <th></th>\n",
       "      <th></th>\n",
       "      <th></th>\n",
       "      <th></th>\n",
       "    </tr>\n",
       "  </thead>\n",
       "  <tbody>\n",
       "    <tr>\n",
       "      <th>1</th>\n",
       "      <td>Retail</td>\n",
       "      <td>Other</td>\n",
       "      <td>12669</td>\n",
       "      <td>9656</td>\n",
       "      <td>7561</td>\n",
       "      <td>214</td>\n",
       "      <td>2674</td>\n",
       "      <td>1338</td>\n",
       "      <td>34112</td>\n",
       "    </tr>\n",
       "    <tr>\n",
       "      <th>2</th>\n",
       "      <td>Retail</td>\n",
       "      <td>Other</td>\n",
       "      <td>7057</td>\n",
       "      <td>9810</td>\n",
       "      <td>9568</td>\n",
       "      <td>1762</td>\n",
       "      <td>3293</td>\n",
       "      <td>1776</td>\n",
       "      <td>33266</td>\n",
       "    </tr>\n",
       "    <tr>\n",
       "      <th>3</th>\n",
       "      <td>Retail</td>\n",
       "      <td>Other</td>\n",
       "      <td>6353</td>\n",
       "      <td>8808</td>\n",
       "      <td>7684</td>\n",
       "      <td>2405</td>\n",
       "      <td>3516</td>\n",
       "      <td>7844</td>\n",
       "      <td>36610</td>\n",
       "    </tr>\n",
       "    <tr>\n",
       "      <th>4</th>\n",
       "      <td>Hotel</td>\n",
       "      <td>Other</td>\n",
       "      <td>13265</td>\n",
       "      <td>1196</td>\n",
       "      <td>4221</td>\n",
       "      <td>6404</td>\n",
       "      <td>507</td>\n",
       "      <td>1788</td>\n",
       "      <td>27381</td>\n",
       "    </tr>\n",
       "    <tr>\n",
       "      <th>5</th>\n",
       "      <td>Retail</td>\n",
       "      <td>Other</td>\n",
       "      <td>22615</td>\n",
       "      <td>5410</td>\n",
       "      <td>7198</td>\n",
       "      <td>3915</td>\n",
       "      <td>1777</td>\n",
       "      <td>5185</td>\n",
       "      <td>46100</td>\n",
       "    </tr>\n",
       "    <tr>\n",
       "      <th>...</th>\n",
       "      <td>...</td>\n",
       "      <td>...</td>\n",
       "      <td>...</td>\n",
       "      <td>...</td>\n",
       "      <td>...</td>\n",
       "      <td>...</td>\n",
       "      <td>...</td>\n",
       "      <td>...</td>\n",
       "      <td>...</td>\n",
       "    </tr>\n",
       "    <tr>\n",
       "      <th>436</th>\n",
       "      <td>Hotel</td>\n",
       "      <td>Other</td>\n",
       "      <td>29703</td>\n",
       "      <td>12051</td>\n",
       "      <td>16027</td>\n",
       "      <td>13135</td>\n",
       "      <td>182</td>\n",
       "      <td>2204</td>\n",
       "      <td>73302</td>\n",
       "    </tr>\n",
       "    <tr>\n",
       "      <th>437</th>\n",
       "      <td>Hotel</td>\n",
       "      <td>Other</td>\n",
       "      <td>39228</td>\n",
       "      <td>1431</td>\n",
       "      <td>764</td>\n",
       "      <td>4510</td>\n",
       "      <td>93</td>\n",
       "      <td>2346</td>\n",
       "      <td>48372</td>\n",
       "    </tr>\n",
       "    <tr>\n",
       "      <th>438</th>\n",
       "      <td>Retail</td>\n",
       "      <td>Other</td>\n",
       "      <td>14531</td>\n",
       "      <td>15488</td>\n",
       "      <td>30243</td>\n",
       "      <td>437</td>\n",
       "      <td>14841</td>\n",
       "      <td>1867</td>\n",
       "      <td>77407</td>\n",
       "    </tr>\n",
       "    <tr>\n",
       "      <th>439</th>\n",
       "      <td>Hotel</td>\n",
       "      <td>Other</td>\n",
       "      <td>10290</td>\n",
       "      <td>1981</td>\n",
       "      <td>2232</td>\n",
       "      <td>1038</td>\n",
       "      <td>168</td>\n",
       "      <td>2125</td>\n",
       "      <td>17834</td>\n",
       "    </tr>\n",
       "    <tr>\n",
       "      <th>440</th>\n",
       "      <td>Hotel</td>\n",
       "      <td>Other</td>\n",
       "      <td>2787</td>\n",
       "      <td>1698</td>\n",
       "      <td>2510</td>\n",
       "      <td>65</td>\n",
       "      <td>477</td>\n",
       "      <td>52</td>\n",
       "      <td>7589</td>\n",
       "    </tr>\n",
       "  </tbody>\n",
       "</table>\n",
       "<p>440 rows × 9 columns</p>\n",
       "</div>"
      ],
      "text/plain": [
       "              Channel Region  Fresh   Milk  Grocery  Frozen  Detergents_Paper  \\\n",
       "Buyer/Spender                                                                   \n",
       "1              Retail  Other  12669   9656     7561     214              2674   \n",
       "2              Retail  Other   7057   9810     9568    1762              3293   \n",
       "3              Retail  Other   6353   8808     7684    2405              3516   \n",
       "4               Hotel  Other  13265   1196     4221    6404               507   \n",
       "5              Retail  Other  22615   5410     7198    3915              1777   \n",
       "...               ...    ...    ...    ...      ...     ...               ...   \n",
       "436             Hotel  Other  29703  12051    16027   13135               182   \n",
       "437             Hotel  Other  39228   1431      764    4510                93   \n",
       "438            Retail  Other  14531  15488    30243     437             14841   \n",
       "439             Hotel  Other  10290   1981     2232    1038               168   \n",
       "440             Hotel  Other   2787   1698     2510      65               477   \n",
       "\n",
       "               Delicatessen  Total Spend  \n",
       "Buyer/Spender                             \n",
       "1                      1338        34112  \n",
       "2                      1776        33266  \n",
       "3                      7844        36610  \n",
       "4                      1788        27381  \n",
       "5                      5185        46100  \n",
       "...                     ...          ...  \n",
       "436                    2204        73302  \n",
       "437                    2346        48372  \n",
       "438                    1867        77407  \n",
       "439                    2125        17834  \n",
       "440                      52         7589  \n",
       "\n",
       "[440 rows x 9 columns]"
      ]
     },
     "execution_count": 8,
     "metadata": {},
     "output_type": "execute_result"
    }
   ],
   "source": [
    "wsale['Total Spend'] = wsale.sum(axis = 1, numeric_only=True)\n",
    "wsale"
   ]
  },
  {
   "cell_type": "code",
   "execution_count": 9,
   "metadata": {},
   "outputs": [
    {
     "data": {
      "text/plain": [
       "Region  Channel\n",
       "Oporto  Hotel       719150\n",
       "        Retail      835938\n",
       "Lisbon  Retail      848471\n",
       "        Hotel      1538342\n",
       "Other   Retail     4935522\n",
       "        Hotel      5742077\n",
       "Name: Total Spend, dtype: int64"
      ]
     },
     "execution_count": 9,
     "metadata": {},
     "output_type": "execute_result"
    }
   ],
   "source": [
    "df = wsale.groupby(['Region', 'Channel'])\n",
    "df['Total Spend'].sum().sort_values(ascending = True)"
   ]
  },
  {
   "cell_type": "code",
   "execution_count": 10,
   "metadata": {},
   "outputs": [
    {
     "name": "stdout",
     "output_type": "stream",
     "text": [
      "        Total Spend\n",
      "Region             \n",
      "Oporto      1555088\n",
      "Lisbon      2386813\n",
      "Other      10677599\n"
     ]
    }
   ],
   "source": [
    "print(wsale[['Region','Total Spend']].groupby('Region').sum().sort_values(by ='Total Spend', ascending = True))"
   ]
  },
  {
   "cell_type": "code",
   "execution_count": 11,
   "metadata": {},
   "outputs": [
    {
     "name": "stdout",
     "output_type": "stream",
     "text": [
      "         Total Spend\n",
      "Channel             \n",
      "Retail       6619931\n",
      "Hotel        7999569\n"
     ]
    }
   ],
   "source": [
    "print(wsale[['Channel','Total Spend']].groupby('Channel').sum().sort_values(by ='Total Spend', ascending = True))"
   ]
  },
  {
   "cell_type": "markdown",
   "metadata": {},
   "source": [
    "<b> 1.2 There are 6 different varieties of items are considered. Do all varieties show similar behaviour across Region and Channel? <b>"
   ]
  },
  {
   "cell_type": "code",
   "execution_count": 12,
   "metadata": {},
   "outputs": [
    {
     "data": {
      "text/html": [
       "<div>\n",
       "<style scoped>\n",
       "    .dataframe tbody tr th:only-of-type {\n",
       "        vertical-align: middle;\n",
       "    }\n",
       "\n",
       "    .dataframe tbody tr th {\n",
       "        vertical-align: top;\n",
       "    }\n",
       "\n",
       "    .dataframe thead th {\n",
       "        text-align: right;\n",
       "    }\n",
       "</style>\n",
       "<table border=\"1\" class=\"dataframe\">\n",
       "  <thead>\n",
       "    <tr style=\"text-align: right;\">\n",
       "      <th></th>\n",
       "      <th></th>\n",
       "      <th>Delicatessen</th>\n",
       "      <th>Detergents_Paper</th>\n",
       "      <th>Fresh</th>\n",
       "      <th>Frozen</th>\n",
       "      <th>Grocery</th>\n",
       "      <th>Milk</th>\n",
       "    </tr>\n",
       "    <tr>\n",
       "      <th>Channel</th>\n",
       "      <th>Region</th>\n",
       "      <th></th>\n",
       "      <th></th>\n",
       "      <th></th>\n",
       "      <th></th>\n",
       "      <th></th>\n",
       "      <th></th>\n",
       "    </tr>\n",
       "  </thead>\n",
       "  <tbody>\n",
       "    <tr>\n",
       "      <th rowspan=\"3\" valign=\"top\">Hotel</th>\n",
       "      <th>Lisbon</th>\n",
       "      <td>70632</td>\n",
       "      <td>56081</td>\n",
       "      <td>761233</td>\n",
       "      <td>184512</td>\n",
       "      <td>237542</td>\n",
       "      <td>228342</td>\n",
       "    </tr>\n",
       "    <tr>\n",
       "      <th>Oporto</th>\n",
       "      <td>30965</td>\n",
       "      <td>13516</td>\n",
       "      <td>326215</td>\n",
       "      <td>160861</td>\n",
       "      <td>123074</td>\n",
       "      <td>64519</td>\n",
       "    </tr>\n",
       "    <tr>\n",
       "      <th>Other</th>\n",
       "      <td>320358</td>\n",
       "      <td>165990</td>\n",
       "      <td>2928269</td>\n",
       "      <td>771606</td>\n",
       "      <td>820101</td>\n",
       "      <td>735753</td>\n",
       "    </tr>\n",
       "    <tr>\n",
       "      <th rowspan=\"3\" valign=\"top\">Retail</th>\n",
       "      <th>Lisbon</th>\n",
       "      <td>33695</td>\n",
       "      <td>148055</td>\n",
       "      <td>93600</td>\n",
       "      <td>46514</td>\n",
       "      <td>332495</td>\n",
       "      <td>194112</td>\n",
       "    </tr>\n",
       "    <tr>\n",
       "      <th>Oporto</th>\n",
       "      <td>23541</td>\n",
       "      <td>159795</td>\n",
       "      <td>138506</td>\n",
       "      <td>29271</td>\n",
       "      <td>310200</td>\n",
       "      <td>174625</td>\n",
       "    </tr>\n",
       "    <tr>\n",
       "      <th>Other</th>\n",
       "      <td>191752</td>\n",
       "      <td>724420</td>\n",
       "      <td>1032308</td>\n",
       "      <td>158886</td>\n",
       "      <td>1675150</td>\n",
       "      <td>1153006</td>\n",
       "    </tr>\n",
       "  </tbody>\n",
       "</table>\n",
       "</div>"
      ],
      "text/plain": [
       "                Delicatessen  Detergents_Paper    Fresh  Frozen  Grocery  \\\n",
       "Channel Region                                                             \n",
       "Hotel   Lisbon         70632             56081   761233  184512   237542   \n",
       "        Oporto         30965             13516   326215  160861   123074   \n",
       "        Other         320358            165990  2928269  771606   820101   \n",
       "Retail  Lisbon         33695            148055    93600   46514   332495   \n",
       "        Oporto         23541            159795   138506   29271   310200   \n",
       "        Other         191752            724420  1032308  158886  1675150   \n",
       "\n",
       "                   Milk  \n",
       "Channel Region           \n",
       "Hotel   Lisbon   228342  \n",
       "        Oporto    64519  \n",
       "        Other    735753  \n",
       "Retail  Lisbon   194112  \n",
       "        Oporto   174625  \n",
       "        Other   1153006  "
      ]
     },
     "execution_count": 12,
     "metadata": {},
     "output_type": "execute_result"
    }
   ],
   "source": [
    "# Taking the total of all items across Region and channel (excluding the total spend)\n",
    "\n",
    "df5 = pd.pivot_table(wsale, index=['Channel', 'Region'], aggfunc=sum)\n",
    "del(df5['Total Spend'])\n",
    "\n",
    "df5"
   ]
  },
  {
   "cell_type": "code",
   "execution_count": 13,
   "metadata": {},
   "outputs": [
    {
     "data": {
      "image/png": "[encoded data removed]",
      "text/plain": [
       "<Figure size 1440x720 with 1 Axes>"
      ]
     },
     "metadata": {
      "needs_background": "light"
     },
     "output_type": "display_data"
    }
   ],
   "source": [
    "df5[['Delicatessen','Frozen','Fresh']].plot(kind = 'bar', figsize = (20,10));"
   ]
  },
  {
   "cell_type": "code",
   "execution_count": 14,
   "metadata": {
    "scrolled": false
   },
   "outputs": [
    {
     "data": {
      "image/png": "[encoded data removed]",
      "text/plain": [
       "<Figure size 1440x720 with 1 Axes>"
      ]
     },
     "metadata": {
      "needs_background": "light"
     },
     "output_type": "display_data"
    }
   ],
   "source": [
    "df5[['Detergents_Paper','Milk','Grocery']].plot(kind = 'bar', figsize = (20,10));"
   ]
  },
  {
   "cell_type": "code",
   "execution_count": 15,
   "metadata": {
    "scrolled": true
   },
   "outputs": [
    {
     "data": {
      "text/plain": [
       "<matplotlib.axes._subplots.AxesSubplot at 0x1ed9dd89408>"
      ]
     },
     "execution_count": 15,
     "metadata": {},
     "output_type": "execute_result"
    },
    {
     "data": {
      "image/png": "[encoded data removed]",
      "text/plain": [
       "<Figure size 432x288 with 1 Axes>"
      ]
     },
     "metadata": {
      "needs_background": "light"
     },
     "output_type": "display_data"
    }
   ],
   "source": [
    "df = wsale[['Channel','Fresh','Frozen','Delicatessen','Detergents_Paper','Grocery','Milk']].groupby('Channel').sum()\n",
    "df.plot(kind = 'bar' )"
   ]
  },
  {
   "cell_type": "code",
   "execution_count": 16,
   "metadata": {},
   "outputs": [
    {
     "data": {
      "text/plain": [
       "<matplotlib.axes._subplots.AxesSubplot at 0x1ed9e45db88>"
      ]
     },
     "execution_count": 16,
     "metadata": {},
     "output_type": "execute_result"
    },
    {
     "data": {
      "image/png": "[encoded data removed]",
      "text/plain": [
       "<Figure size 432x288 with 1 Axes>"
      ]
     },
     "metadata": {
      "needs_background": "light"
     },
     "output_type": "display_data"
    }
   ],
   "source": [
    "df = wsale[['Region','Fresh','Frozen','Delicatessen','Detergents_Paper','Grocery','Milk']].groupby('Region').sum()\n",
    "df.plot(kind = 'bar' )"
   ]
  },
  {
   "cell_type": "markdown",
   "metadata": {},
   "source": [
    "<b> 1.3 On the basis of descriptive measure of variability, which item shows the most inconsistent behavior? Which items show the least inconsistent behaviour? <b>\n",
    " "
   ]
  },
  {
   "cell_type": "code",
   "execution_count": 18,
   "metadata": {},
   "outputs": [
    {
     "data": {
      "text/html": [
       "<div>\n",
       "<style scoped>\n",
       "    .dataframe tbody tr th:only-of-type {\n",
       "        vertical-align: middle;\n",
       "    }\n",
       "\n",
       "    .dataframe tbody tr th {\n",
       "        vertical-align: top;\n",
       "    }\n",
       "\n",
       "    .dataframe thead th {\n",
       "        text-align: right;\n",
       "    }\n",
       "</style>\n",
       "<table border=\"1\" class=\"dataframe\">\n",
       "  <thead>\n",
       "    <tr style=\"text-align: right;\">\n",
       "      <th></th>\n",
       "      <th>mean</th>\n",
       "      <th>std</th>\n",
       "      <th>CoV</th>\n",
       "    </tr>\n",
       "  </thead>\n",
       "  <tbody>\n",
       "    <tr>\n",
       "      <th>Fresh</th>\n",
       "      <td>12000.297727</td>\n",
       "      <td>12647.328865</td>\n",
       "      <td>1.053918</td>\n",
       "    </tr>\n",
       "    <tr>\n",
       "      <th>Milk</th>\n",
       "      <td>5796.265909</td>\n",
       "      <td>7380.377175</td>\n",
       "      <td>1.273299</td>\n",
       "    </tr>\n",
       "    <tr>\n",
       "      <th>Grocery</th>\n",
       "      <td>7951.277273</td>\n",
       "      <td>9503.162829</td>\n",
       "      <td>1.195174</td>\n",
       "    </tr>\n",
       "    <tr>\n",
       "      <th>Frozen</th>\n",
       "      <td>3071.931818</td>\n",
       "      <td>4854.673333</td>\n",
       "      <td>1.580332</td>\n",
       "    </tr>\n",
       "    <tr>\n",
       "      <th>Detergents_Paper</th>\n",
       "      <td>2881.493182</td>\n",
       "      <td>4767.854448</td>\n",
       "      <td>1.654647</td>\n",
       "    </tr>\n",
       "    <tr>\n",
       "      <th>Delicatessen</th>\n",
       "      <td>1524.870455</td>\n",
       "      <td>2820.105937</td>\n",
       "      <td>1.849407</td>\n",
       "    </tr>\n",
       "    <tr>\n",
       "      <th>Total Spend</th>\n",
       "      <td>33226.136364</td>\n",
       "      <td>26356.301730</td>\n",
       "      <td>0.793240</td>\n",
       "    </tr>\n",
       "  </tbody>\n",
       "</table>\n",
       "</div>"
      ],
      "text/plain": [
       "                          mean           std       CoV\n",
       "Fresh             12000.297727  12647.328865  1.053918\n",
       "Milk               5796.265909   7380.377175  1.273299\n",
       "Grocery            7951.277273   9503.162829  1.195174\n",
       "Frozen             3071.931818   4854.673333  1.580332\n",
       "Detergents_Paper   2881.493182   4767.854448  1.654647\n",
       "Delicatessen       1524.870455   2820.105937  1.849407\n",
       "Total Spend       33226.136364  26356.301730  0.793240"
      ]
     },
     "execution_count": 18,
     "metadata": {},
     "output_type": "execute_result"
    }
   ],
   "source": [
    "# X=Creating a new df with mean and std of the items\n",
    "\n",
    "df2 = wsale.describe()[1:3].T\n",
    "df2['CoV'] = df2['std'] / df2['mean']\n",
    "df2"
   ]
  },
  {
   "cell_type": "markdown",
   "metadata": {},
   "source": [
    "<b> 1.4 Are there any outliers in the data? <b>\n",
    "   "
   ]
  },
  {
   "cell_type": "code",
   "execution_count": 19,
   "metadata": {},
   "outputs": [
    {
     "data": {
      "image/png": "[encoded data removed]",
      "text/plain": [
       "<Figure size 1440x720 with 4 Axes>"
      ]
     },
     "metadata": {
      "needs_background": "light"
     },
     "output_type": "display_data"
    }
   ],
   "source": [
    "# Boxplot for outliers\n",
    "fig, ax = plt.subplots(2,2, figsize= (20,10))\n",
    "sns.set(font_scale = 0.8)\n",
    "\n",
    "sns.boxplot(wsale.Fresh,ax = ax[0][0]);\n",
    "sns.boxplot(wsale.Milk, ax = ax[0][1]);\n",
    "sns.boxplot(wsale.Grocery, ax = ax[1][0]);\n",
    "sns.boxplot(wsale.Frozen, ax = ax[1][1]);"
   ]
  },
  {
   "cell_type": "code",
   "execution_count": 20,
   "metadata": {},
   "outputs": [
    {
     "data": {
      "image/png": "[encoded data removed]",
      "text/plain": [
       "<Figure size 576x576 with 2 Axes>"
      ]
     },
     "metadata": {},
     "output_type": "display_data"
    }
   ],
   "source": [
    "fig, ax = plt.subplots(2, figsize=(8,8))\n",
    "\n",
    "sns.boxplot(wsale['Detergents_Paper'],ax = ax[0] );\n",
    "sns.boxplot(wsale['Delicatessen'], ax = ax[1]);"
   ]
  },
  {
   "cell_type": "code",
   "execution_count": 21,
   "metadata": {},
   "outputs": [
    {
     "data": {
      "text/plain": [
       "<seaborn.axisgrid.PairGrid at 0x1ed9e567fc8>"
      ]
     },
     "execution_count": 21,
     "metadata": {},
     "output_type": "execute_result"
    },
    {
     "data": {
      "image/png": "[encoded data removed]",
      "text/plain": [
       "<Figure size 1260x1260 with 56 Axes>"
      ]
     },
     "metadata": {},
     "output_type": "display_data"
    }
   ],
   "source": [
    "sns.pairplot(wsale)"
   ]
  },
  {
   "cell_type": "markdown",
   "metadata": {},
   "source": [
    "#### <u> Problem 2 <u> :\n",
    "\n",
    "##### <u> Survey of undergrad students<u>\n",
    "\n",
    "###### Problem Statement:\n",
    "    The Student News Service at Clear Mountain State University (CMSU) has decided to gather data about the undergraduate students that attend CMSU. CMSU creates and distributes a survey of 14 questions and receives responses from 62 undergraduates (stored in the Survey data set)."
   ]
  },
  {
   "cell_type": "code",
   "execution_count": 22,
   "metadata": {
    "scrolled": true
   },
   "outputs": [
    {
     "data": {
      "text/html": [
       "<div>\n",
       "<style scoped>\n",
       "    .dataframe tbody tr th:only-of-type {\n",
       "        vertical-align: middle;\n",
       "    }\n",
       "\n",
       "    .dataframe tbody tr th {\n",
       "        vertical-align: top;\n",
       "    }\n",
       "\n",
       "    .dataframe thead th {\n",
       "        text-align: right;\n",
       "    }\n",
       "</style>\n",
       "<table border=\"1\" class=\"dataframe\">\n",
       "  <thead>\n",
       "    <tr style=\"text-align: right;\">\n",
       "      <th></th>\n",
       "      <th>ID</th>\n",
       "      <th>Gender</th>\n",
       "      <th>Age</th>\n",
       "      <th>Class</th>\n",
       "      <th>Major</th>\n",
       "      <th>Grad Intention</th>\n",
       "      <th>GPA</th>\n",
       "      <th>Employment</th>\n",
       "      <th>Salary</th>\n",
       "      <th>Social Networking</th>\n",
       "      <th>Satisfaction</th>\n",
       "      <th>Spending</th>\n",
       "      <th>Computer</th>\n",
       "      <th>Text Messages</th>\n",
       "    </tr>\n",
       "  </thead>\n",
       "  <tbody>\n",
       "    <tr>\n",
       "      <th>0</th>\n",
       "      <td>1</td>\n",
       "      <td>Female</td>\n",
       "      <td>20</td>\n",
       "      <td>Junior</td>\n",
       "      <td>Other</td>\n",
       "      <td>Yes</td>\n",
       "      <td>2.9</td>\n",
       "      <td>Full-Time</td>\n",
       "      <td>50.0</td>\n",
       "      <td>1</td>\n",
       "      <td>3</td>\n",
       "      <td>350</td>\n",
       "      <td>Laptop</td>\n",
       "      <td>200</td>\n",
       "    </tr>\n",
       "    <tr>\n",
       "      <th>1</th>\n",
       "      <td>2</td>\n",
       "      <td>Male</td>\n",
       "      <td>23</td>\n",
       "      <td>Senior</td>\n",
       "      <td>Management</td>\n",
       "      <td>Yes</td>\n",
       "      <td>3.6</td>\n",
       "      <td>Part-Time</td>\n",
       "      <td>25.0</td>\n",
       "      <td>1</td>\n",
       "      <td>4</td>\n",
       "      <td>360</td>\n",
       "      <td>Laptop</td>\n",
       "      <td>50</td>\n",
       "    </tr>\n",
       "    <tr>\n",
       "      <th>2</th>\n",
       "      <td>3</td>\n",
       "      <td>Male</td>\n",
       "      <td>21</td>\n",
       "      <td>Junior</td>\n",
       "      <td>Other</td>\n",
       "      <td>Yes</td>\n",
       "      <td>2.5</td>\n",
       "      <td>Part-Time</td>\n",
       "      <td>45.0</td>\n",
       "      <td>2</td>\n",
       "      <td>4</td>\n",
       "      <td>600</td>\n",
       "      <td>Laptop</td>\n",
       "      <td>200</td>\n",
       "    </tr>\n",
       "    <tr>\n",
       "      <th>3</th>\n",
       "      <td>4</td>\n",
       "      <td>Male</td>\n",
       "      <td>21</td>\n",
       "      <td>Junior</td>\n",
       "      <td>CIS</td>\n",
       "      <td>Yes</td>\n",
       "      <td>2.5</td>\n",
       "      <td>Full-Time</td>\n",
       "      <td>40.0</td>\n",
       "      <td>4</td>\n",
       "      <td>6</td>\n",
       "      <td>600</td>\n",
       "      <td>Laptop</td>\n",
       "      <td>250</td>\n",
       "    </tr>\n",
       "    <tr>\n",
       "      <th>4</th>\n",
       "      <td>5</td>\n",
       "      <td>Male</td>\n",
       "      <td>23</td>\n",
       "      <td>Senior</td>\n",
       "      <td>Other</td>\n",
       "      <td>Undecided</td>\n",
       "      <td>2.8</td>\n",
       "      <td>Unemployed</td>\n",
       "      <td>40.0</td>\n",
       "      <td>2</td>\n",
       "      <td>4</td>\n",
       "      <td>500</td>\n",
       "      <td>Laptop</td>\n",
       "      <td>100</td>\n",
       "    </tr>\n",
       "  </tbody>\n",
       "</table>\n",
       "</div>"
      ],
      "text/plain": [
       "   ID  Gender  Age   Class       Major Grad Intention  GPA  Employment  \\\n",
       "0   1  Female   20  Junior       Other            Yes  2.9   Full-Time   \n",
       "1   2    Male   23  Senior  Management            Yes  3.6   Part-Time   \n",
       "2   3    Male   21  Junior       Other            Yes  2.5   Part-Time   \n",
       "3   4    Male   21  Junior         CIS            Yes  2.5   Full-Time   \n",
       "4   5    Male   23  Senior       Other      Undecided  2.8  Unemployed   \n",
       "\n",
       "   Salary  Social Networking  Satisfaction  Spending Computer  Text Messages  \n",
       "0    50.0                  1             3       350   Laptop            200  \n",
       "1    25.0                  1             4       360   Laptop             50  \n",
       "2    45.0                  2             4       600   Laptop            200  \n",
       "3    40.0                  4             6       600   Laptop            250  \n",
       "4    40.0                  2             4       500   Laptop            100  "
      ]
     },
     "execution_count": 22,
     "metadata": {},
     "output_type": "execute_result"
    }
   ],
   "source": [
    "# Load the Survey dataset\n",
    "\n",
    "survey = pd.read_csv('Survey-1.csv')\n",
    "survey.head()"
   ]
  },
  {
   "cell_type": "code",
   "execution_count": 23,
   "metadata": {},
   "outputs": [],
   "source": [
    "# Making ID as index\n",
    "\n",
    "survey.set_index('ID', inplace = True)"
   ]
  },
  {
   "cell_type": "code",
   "execution_count": 24,
   "metadata": {},
   "outputs": [
    {
     "data": {
      "text/html": [
       "<div>\n",
       "<style scoped>\n",
       "    .dataframe tbody tr th:only-of-type {\n",
       "        vertical-align: middle;\n",
       "    }\n",
       "\n",
       "    .dataframe tbody tr th {\n",
       "        vertical-align: top;\n",
       "    }\n",
       "\n",
       "    .dataframe thead th {\n",
       "        text-align: right;\n",
       "    }\n",
       "</style>\n",
       "<table border=\"1\" class=\"dataframe\">\n",
       "  <thead>\n",
       "    <tr style=\"text-align: right;\">\n",
       "      <th></th>\n",
       "      <th>Gender</th>\n",
       "      <th>Age</th>\n",
       "      <th>Class</th>\n",
       "      <th>Major</th>\n",
       "      <th>Grad Intention</th>\n",
       "      <th>GPA</th>\n",
       "      <th>Employment</th>\n",
       "      <th>Salary</th>\n",
       "      <th>Social Networking</th>\n",
       "      <th>Satisfaction</th>\n",
       "      <th>Spending</th>\n",
       "      <th>Computer</th>\n",
       "      <th>Text Messages</th>\n",
       "    </tr>\n",
       "    <tr>\n",
       "      <th>ID</th>\n",
       "      <th></th>\n",
       "      <th></th>\n",
       "      <th></th>\n",
       "      <th></th>\n",
       "      <th></th>\n",
       "      <th></th>\n",
       "      <th></th>\n",
       "      <th></th>\n",
       "      <th></th>\n",
       "      <th></th>\n",
       "      <th></th>\n",
       "      <th></th>\n",
       "      <th></th>\n",
       "    </tr>\n",
       "  </thead>\n",
       "  <tbody>\n",
       "    <tr>\n",
       "      <th>58</th>\n",
       "      <td>Female</td>\n",
       "      <td>21</td>\n",
       "      <td>Senior</td>\n",
       "      <td>International Business</td>\n",
       "      <td>No</td>\n",
       "      <td>2.4</td>\n",
       "      <td>Part-Time</td>\n",
       "      <td>40.0</td>\n",
       "      <td>1</td>\n",
       "      <td>3</td>\n",
       "      <td>1000</td>\n",
       "      <td>Laptop</td>\n",
       "      <td>10</td>\n",
       "    </tr>\n",
       "    <tr>\n",
       "      <th>59</th>\n",
       "      <td>Female</td>\n",
       "      <td>20</td>\n",
       "      <td>Junior</td>\n",
       "      <td>CIS</td>\n",
       "      <td>No</td>\n",
       "      <td>2.9</td>\n",
       "      <td>Part-Time</td>\n",
       "      <td>40.0</td>\n",
       "      <td>2</td>\n",
       "      <td>4</td>\n",
       "      <td>350</td>\n",
       "      <td>Laptop</td>\n",
       "      <td>250</td>\n",
       "    </tr>\n",
       "    <tr>\n",
       "      <th>60</th>\n",
       "      <td>Female</td>\n",
       "      <td>20</td>\n",
       "      <td>Sophomore</td>\n",
       "      <td>CIS</td>\n",
       "      <td>No</td>\n",
       "      <td>2.5</td>\n",
       "      <td>Part-Time</td>\n",
       "      <td>55.0</td>\n",
       "      <td>1</td>\n",
       "      <td>4</td>\n",
       "      <td>500</td>\n",
       "      <td>Laptop</td>\n",
       "      <td>500</td>\n",
       "    </tr>\n",
       "    <tr>\n",
       "      <th>61</th>\n",
       "      <td>Female</td>\n",
       "      <td>23</td>\n",
       "      <td>Senior</td>\n",
       "      <td>Accounting</td>\n",
       "      <td>Yes</td>\n",
       "      <td>3.5</td>\n",
       "      <td>Part-Time</td>\n",
       "      <td>30.0</td>\n",
       "      <td>2</td>\n",
       "      <td>3</td>\n",
       "      <td>490</td>\n",
       "      <td>Laptop</td>\n",
       "      <td>50</td>\n",
       "    </tr>\n",
       "    <tr>\n",
       "      <th>62</th>\n",
       "      <td>Female</td>\n",
       "      <td>23</td>\n",
       "      <td>Senior</td>\n",
       "      <td>Economics/Finance</td>\n",
       "      <td>No</td>\n",
       "      <td>3.2</td>\n",
       "      <td>Part-Time</td>\n",
       "      <td>70.0</td>\n",
       "      <td>2</td>\n",
       "      <td>3</td>\n",
       "      <td>250</td>\n",
       "      <td>Laptop</td>\n",
       "      <td>0</td>\n",
       "    </tr>\n",
       "  </tbody>\n",
       "</table>\n",
       "</div>"
      ],
      "text/plain": [
       "    Gender  Age      Class                   Major Grad Intention  GPA  \\\n",
       "ID                                                                       \n",
       "58  Female   21     Senior  International Business             No  2.4   \n",
       "59  Female   20     Junior                     CIS             No  2.9   \n",
       "60  Female   20  Sophomore                     CIS             No  2.5   \n",
       "61  Female   23     Senior              Accounting            Yes  3.5   \n",
       "62  Female   23     Senior       Economics/Finance             No  3.2   \n",
       "\n",
       "   Employment  Salary  Social Networking  Satisfaction  Spending Computer  \\\n",
       "ID                                                                          \n",
       "58  Part-Time    40.0                  1             3      1000   Laptop   \n",
       "59  Part-Time    40.0                  2             4       350   Laptop   \n",
       "60  Part-Time    55.0                  1             4       500   Laptop   \n",
       "61  Part-Time    30.0                  2             3       490   Laptop   \n",
       "62  Part-Time    70.0                  2             3       250   Laptop   \n",
       "\n",
       "    Text Messages  \n",
       "ID                 \n",
       "58             10  \n",
       "59            250  \n",
       "60            500  \n",
       "61             50  \n",
       "62              0  "
      ]
     },
     "execution_count": 24,
     "metadata": {},
     "output_type": "execute_result"
    }
   ],
   "source": [
    "survey.tail()"
   ]
  },
  {
   "cell_type": "code",
   "execution_count": 25,
   "metadata": {},
   "outputs": [
    {
     "name": "stdout",
     "output_type": "stream",
     "text": [
      "<class 'pandas.core.frame.DataFrame'>\n",
      "Int64Index: 62 entries, 1 to 62\n",
      "Data columns (total 13 columns):\n",
      " #   Column             Non-Null Count  Dtype  \n",
      "---  ------             --------------  -----  \n",
      " 0   Gender             62 non-null     object \n",
      " 1   Age                62 non-null     int64  \n",
      " 2   Class              62 non-null     object \n",
      " 3   Major              62 non-null     object \n",
      " 4   Grad Intention     62 non-null     object \n",
      " 5   GPA                62 non-null     float64\n",
      " 6   Employment         62 non-null     object \n",
      " 7   Salary             62 non-null     float64\n",
      " 8   Social Networking  62 non-null     int64  \n",
      " 9   Satisfaction       62 non-null     int64  \n",
      " 10  Spending           62 non-null     int64  \n",
      " 11  Computer           62 non-null     object \n",
      " 12  Text Messages      62 non-null     int64  \n",
      "dtypes: float64(2), int64(5), object(6)\n",
      "memory usage: 6.8+ KB\n"
     ]
    }
   ],
   "source": [
    "# Information about the dataset and missing values\n",
    "\n",
    "survey.info()"
   ]
  },
  {
   "cell_type": "code",
   "execution_count": 26,
   "metadata": {},
   "outputs": [
    {
     "data": {
      "text/html": [
       "<div>\n",
       "<style scoped>\n",
       "    .dataframe tbody tr th:only-of-type {\n",
       "        vertical-align: middle;\n",
       "    }\n",
       "\n",
       "    .dataframe tbody tr th {\n",
       "        vertical-align: top;\n",
       "    }\n",
       "\n",
       "    .dataframe thead th {\n",
       "        text-align: right;\n",
       "    }\n",
       "</style>\n",
       "<table border=\"1\" class=\"dataframe\">\n",
       "  <thead>\n",
       "    <tr style=\"text-align: right;\">\n",
       "      <th></th>\n",
       "      <th>count</th>\n",
       "      <th>unique</th>\n",
       "      <th>top</th>\n",
       "      <th>freq</th>\n",
       "      <th>mean</th>\n",
       "      <th>std</th>\n",
       "      <th>min</th>\n",
       "      <th>25%</th>\n",
       "      <th>50%</th>\n",
       "      <th>75%</th>\n",
       "      <th>max</th>\n",
       "    </tr>\n",
       "  </thead>\n",
       "  <tbody>\n",
       "    <tr>\n",
       "      <th>Gender</th>\n",
       "      <td>62</td>\n",
       "      <td>2</td>\n",
       "      <td>Female</td>\n",
       "      <td>33</td>\n",
       "      <td>NaN</td>\n",
       "      <td>NaN</td>\n",
       "      <td>NaN</td>\n",
       "      <td>NaN</td>\n",
       "      <td>NaN</td>\n",
       "      <td>NaN</td>\n",
       "      <td>NaN</td>\n",
       "    </tr>\n",
       "    <tr>\n",
       "      <th>Age</th>\n",
       "      <td>62</td>\n",
       "      <td>NaN</td>\n",
       "      <td>NaN</td>\n",
       "      <td>NaN</td>\n",
       "      <td>21.129</td>\n",
       "      <td>1.43131</td>\n",
       "      <td>18</td>\n",
       "      <td>20</td>\n",
       "      <td>21</td>\n",
       "      <td>22</td>\n",
       "      <td>26</td>\n",
       "    </tr>\n",
       "    <tr>\n",
       "      <th>Class</th>\n",
       "      <td>62</td>\n",
       "      <td>3</td>\n",
       "      <td>Senior</td>\n",
       "      <td>31</td>\n",
       "      <td>NaN</td>\n",
       "      <td>NaN</td>\n",
       "      <td>NaN</td>\n",
       "      <td>NaN</td>\n",
       "      <td>NaN</td>\n",
       "      <td>NaN</td>\n",
       "      <td>NaN</td>\n",
       "    </tr>\n",
       "    <tr>\n",
       "      <th>Major</th>\n",
       "      <td>62</td>\n",
       "      <td>8</td>\n",
       "      <td>Retailing/Marketing</td>\n",
       "      <td>14</td>\n",
       "      <td>NaN</td>\n",
       "      <td>NaN</td>\n",
       "      <td>NaN</td>\n",
       "      <td>NaN</td>\n",
       "      <td>NaN</td>\n",
       "      <td>NaN</td>\n",
       "      <td>NaN</td>\n",
       "    </tr>\n",
       "    <tr>\n",
       "      <th>Grad Intention</th>\n",
       "      <td>62</td>\n",
       "      <td>3</td>\n",
       "      <td>Yes</td>\n",
       "      <td>28</td>\n",
       "      <td>NaN</td>\n",
       "      <td>NaN</td>\n",
       "      <td>NaN</td>\n",
       "      <td>NaN</td>\n",
       "      <td>NaN</td>\n",
       "      <td>NaN</td>\n",
       "      <td>NaN</td>\n",
       "    </tr>\n",
       "    <tr>\n",
       "      <th>GPA</th>\n",
       "      <td>62</td>\n",
       "      <td>NaN</td>\n",
       "      <td>NaN</td>\n",
       "      <td>NaN</td>\n",
       "      <td>3.12903</td>\n",
       "      <td>0.377388</td>\n",
       "      <td>2.3</td>\n",
       "      <td>2.9</td>\n",
       "      <td>3.15</td>\n",
       "      <td>3.4</td>\n",
       "      <td>3.9</td>\n",
       "    </tr>\n",
       "    <tr>\n",
       "      <th>Employment</th>\n",
       "      <td>62</td>\n",
       "      <td>3</td>\n",
       "      <td>Part-Time</td>\n",
       "      <td>43</td>\n",
       "      <td>NaN</td>\n",
       "      <td>NaN</td>\n",
       "      <td>NaN</td>\n",
       "      <td>NaN</td>\n",
       "      <td>NaN</td>\n",
       "      <td>NaN</td>\n",
       "      <td>NaN</td>\n",
       "    </tr>\n",
       "    <tr>\n",
       "      <th>Salary</th>\n",
       "      <td>62</td>\n",
       "      <td>NaN</td>\n",
       "      <td>NaN</td>\n",
       "      <td>NaN</td>\n",
       "      <td>48.5484</td>\n",
       "      <td>12.0809</td>\n",
       "      <td>25</td>\n",
       "      <td>40</td>\n",
       "      <td>50</td>\n",
       "      <td>55</td>\n",
       "      <td>80</td>\n",
       "    </tr>\n",
       "    <tr>\n",
       "      <th>Social Networking</th>\n",
       "      <td>62</td>\n",
       "      <td>NaN</td>\n",
       "      <td>NaN</td>\n",
       "      <td>NaN</td>\n",
       "      <td>1.51613</td>\n",
       "      <td>0.844305</td>\n",
       "      <td>0</td>\n",
       "      <td>1</td>\n",
       "      <td>1</td>\n",
       "      <td>2</td>\n",
       "      <td>4</td>\n",
       "    </tr>\n",
       "    <tr>\n",
       "      <th>Satisfaction</th>\n",
       "      <td>62</td>\n",
       "      <td>NaN</td>\n",
       "      <td>NaN</td>\n",
       "      <td>NaN</td>\n",
       "      <td>3.74194</td>\n",
       "      <td>1.21379</td>\n",
       "      <td>1</td>\n",
       "      <td>3</td>\n",
       "      <td>4</td>\n",
       "      <td>4</td>\n",
       "      <td>6</td>\n",
       "    </tr>\n",
       "    <tr>\n",
       "      <th>Spending</th>\n",
       "      <td>62</td>\n",
       "      <td>NaN</td>\n",
       "      <td>NaN</td>\n",
       "      <td>NaN</td>\n",
       "      <td>482.016</td>\n",
       "      <td>221.954</td>\n",
       "      <td>100</td>\n",
       "      <td>312.5</td>\n",
       "      <td>500</td>\n",
       "      <td>600</td>\n",
       "      <td>1400</td>\n",
       "    </tr>\n",
       "    <tr>\n",
       "      <th>Computer</th>\n",
       "      <td>62</td>\n",
       "      <td>3</td>\n",
       "      <td>Laptop</td>\n",
       "      <td>55</td>\n",
       "      <td>NaN</td>\n",
       "      <td>NaN</td>\n",
       "      <td>NaN</td>\n",
       "      <td>NaN</td>\n",
       "      <td>NaN</td>\n",
       "      <td>NaN</td>\n",
       "      <td>NaN</td>\n",
       "    </tr>\n",
       "    <tr>\n",
       "      <th>Text Messages</th>\n",
       "      <td>62</td>\n",
       "      <td>NaN</td>\n",
       "      <td>NaN</td>\n",
       "      <td>NaN</td>\n",
       "      <td>246.21</td>\n",
       "      <td>214.466</td>\n",
       "      <td>0</td>\n",
       "      <td>100</td>\n",
       "      <td>200</td>\n",
       "      <td>300</td>\n",
       "      <td>900</td>\n",
       "    </tr>\n",
       "  </tbody>\n",
       "</table>\n",
       "</div>"
      ],
      "text/plain": [
       "                  count unique                  top freq     mean       std  \\\n",
       "Gender               62      2               Female   33      NaN       NaN   \n",
       "Age                  62    NaN                  NaN  NaN   21.129   1.43131   \n",
       "Class                62      3               Senior   31      NaN       NaN   \n",
       "Major                62      8  Retailing/Marketing   14      NaN       NaN   \n",
       "Grad Intention       62      3                  Yes   28      NaN       NaN   \n",
       "GPA                  62    NaN                  NaN  NaN  3.12903  0.377388   \n",
       "Employment           62      3            Part-Time   43      NaN       NaN   \n",
       "Salary               62    NaN                  NaN  NaN  48.5484   12.0809   \n",
       "Social Networking    62    NaN                  NaN  NaN  1.51613  0.844305   \n",
       "Satisfaction         62    NaN                  NaN  NaN  3.74194   1.21379   \n",
       "Spending             62    NaN                  NaN  NaN  482.016   221.954   \n",
       "Computer             62      3               Laptop   55      NaN       NaN   \n",
       "Text Messages        62    NaN                  NaN  NaN   246.21   214.466   \n",
       "\n",
       "                   min    25%   50%  75%   max  \n",
       "Gender             NaN    NaN   NaN  NaN   NaN  \n",
       "Age                 18     20    21   22    26  \n",
       "Class              NaN    NaN   NaN  NaN   NaN  \n",
       "Major              NaN    NaN   NaN  NaN   NaN  \n",
       "Grad Intention     NaN    NaN   NaN  NaN   NaN  \n",
       "GPA                2.3    2.9  3.15  3.4   3.9  \n",
       "Employment         NaN    NaN   NaN  NaN   NaN  \n",
       "Salary              25     40    50   55    80  \n",
       "Social Networking    0      1     1    2     4  \n",
       "Satisfaction         1      3     4    4     6  \n",
       "Spending           100  312.5   500  600  1400  \n",
       "Computer           NaN    NaN   NaN  NaN   NaN  \n",
       "Text Messages        0    100   200  300   900  "
      ]
     },
     "execution_count": 26,
     "metadata": {},
     "output_type": "execute_result"
    }
   ],
   "source": [
    "# Summary of all the columns in the dataset\n",
    "\n",
    "survey.describe(include = 'all').T"
   ]
  },
  {
   "cell_type": "markdown",
   "metadata": {},
   "source": [
    "<b> 2.1. For this data, construct the following contingency tables (Keep Gender as row variable) 2.1.1. Gender and Major 2.1.2. Gender and Grad Intention 2.1.3. Gender and Employment 2.1.4. Gender and Computer <b>"
   ]
  },
  {
   "cell_type": "code",
   "execution_count": 27,
   "metadata": {},
   "outputs": [
    {
     "data": {
      "text/html": [
       "<div>\n",
       "<style scoped>\n",
       "    .dataframe tbody tr th:only-of-type {\n",
       "        vertical-align: middle;\n",
       "    }\n",
       "\n",
       "    .dataframe tbody tr th {\n",
       "        vertical-align: top;\n",
       "    }\n",
       "\n",
       "    .dataframe thead th {\n",
       "        text-align: right;\n",
       "    }\n",
       "</style>\n",
       "<table border=\"1\" class=\"dataframe\">\n",
       "  <thead>\n",
       "    <tr style=\"text-align: right;\">\n",
       "      <th>Major</th>\n",
       "      <th>Accounting</th>\n",
       "      <th>CIS</th>\n",
       "      <th>Economics/Finance</th>\n",
       "      <th>International Business</th>\n",
       "      <th>Management</th>\n",
       "      <th>Other</th>\n",
       "      <th>Retailing/Marketing</th>\n",
       "      <th>Undecided</th>\n",
       "    </tr>\n",
       "    <tr>\n",
       "      <th>Gender</th>\n",
       "      <th></th>\n",
       "      <th></th>\n",
       "      <th></th>\n",
       "      <th></th>\n",
       "      <th></th>\n",
       "      <th></th>\n",
       "      <th></th>\n",
       "      <th></th>\n",
       "    </tr>\n",
       "  </thead>\n",
       "  <tbody>\n",
       "    <tr>\n",
       "      <th>Female</th>\n",
       "      <td>3</td>\n",
       "      <td>3</td>\n",
       "      <td>7</td>\n",
       "      <td>4</td>\n",
       "      <td>4</td>\n",
       "      <td>3</td>\n",
       "      <td>9</td>\n",
       "      <td>0</td>\n",
       "    </tr>\n",
       "    <tr>\n",
       "      <th>Male</th>\n",
       "      <td>4</td>\n",
       "      <td>1</td>\n",
       "      <td>4</td>\n",
       "      <td>2</td>\n",
       "      <td>6</td>\n",
       "      <td>4</td>\n",
       "      <td>5</td>\n",
       "      <td>3</td>\n",
       "    </tr>\n",
       "  </tbody>\n",
       "</table>\n",
       "</div>"
      ],
      "text/plain": [
       "Major   Accounting  CIS  Economics/Finance  International Business  \\\n",
       "Gender                                                               \n",
       "Female           3    3                  7                       4   \n",
       "Male             4    1                  4                       2   \n",
       "\n",
       "Major   Management  Other  Retailing/Marketing  Undecided  \n",
       "Gender                                                     \n",
       "Female           4      3                    9          0  \n",
       "Male             6      4                    5          3  "
      ]
     },
     "execution_count": 27,
     "metadata": {},
     "output_type": "execute_result"
    }
   ],
   "source": [
    "# 2.1.1 Gender and Major\n",
    "\n",
    "pd.crosstab(survey['Gender'],survey['Major'] )"
   ]
  },
  {
   "cell_type": "code",
   "execution_count": 28,
   "metadata": {},
   "outputs": [
    {
     "data": {
      "text/html": [
       "<div>\n",
       "<style scoped>\n",
       "    .dataframe tbody tr th:only-of-type {\n",
       "        vertical-align: middle;\n",
       "    }\n",
       "\n",
       "    .dataframe tbody tr th {\n",
       "        vertical-align: top;\n",
       "    }\n",
       "\n",
       "    .dataframe thead th {\n",
       "        text-align: right;\n",
       "    }\n",
       "</style>\n",
       "<table border=\"1\" class=\"dataframe\">\n",
       "  <thead>\n",
       "    <tr style=\"text-align: right;\">\n",
       "      <th>Grad Intention</th>\n",
       "      <th>No</th>\n",
       "      <th>Undecided</th>\n",
       "      <th>Yes</th>\n",
       "    </tr>\n",
       "    <tr>\n",
       "      <th>Gender</th>\n",
       "      <th></th>\n",
       "      <th></th>\n",
       "      <th></th>\n",
       "    </tr>\n",
       "  </thead>\n",
       "  <tbody>\n",
       "    <tr>\n",
       "      <th>Female</th>\n",
       "      <td>9</td>\n",
       "      <td>13</td>\n",
       "      <td>11</td>\n",
       "    </tr>\n",
       "    <tr>\n",
       "      <th>Male</th>\n",
       "      <td>3</td>\n",
       "      <td>9</td>\n",
       "      <td>17</td>\n",
       "    </tr>\n",
       "  </tbody>\n",
       "</table>\n",
       "</div>"
      ],
      "text/plain": [
       "Grad Intention  No  Undecided  Yes\n",
       "Gender                            \n",
       "Female           9         13   11\n",
       "Male             3          9   17"
      ]
     },
     "execution_count": 28,
     "metadata": {},
     "output_type": "execute_result"
    }
   ],
   "source": [
    "# 2.1.2 Gender and Grad Intention\n",
    "\n",
    "pd.crosstab(survey['Gender'],survey['Grad Intention'] )"
   ]
  },
  {
   "cell_type": "code",
   "execution_count": 29,
   "metadata": {},
   "outputs": [
    {
     "data": {
      "text/html": [
       "<div>\n",
       "<style scoped>\n",
       "    .dataframe tbody tr th:only-of-type {\n",
       "        vertical-align: middle;\n",
       "    }\n",
       "\n",
       "    .dataframe tbody tr th {\n",
       "        vertical-align: top;\n",
       "    }\n",
       "\n",
       "    .dataframe thead th {\n",
       "        text-align: right;\n",
       "    }\n",
       "</style>\n",
       "<table border=\"1\" class=\"dataframe\">\n",
       "  <thead>\n",
       "    <tr style=\"text-align: right;\">\n",
       "      <th>Employment</th>\n",
       "      <th>Full-Time</th>\n",
       "      <th>Part-Time</th>\n",
       "      <th>Unemployed</th>\n",
       "    </tr>\n",
       "    <tr>\n",
       "      <th>Gender</th>\n",
       "      <th></th>\n",
       "      <th></th>\n",
       "      <th></th>\n",
       "    </tr>\n",
       "  </thead>\n",
       "  <tbody>\n",
       "    <tr>\n",
       "      <th>Female</th>\n",
       "      <td>3</td>\n",
       "      <td>24</td>\n",
       "      <td>6</td>\n",
       "    </tr>\n",
       "    <tr>\n",
       "      <th>Male</th>\n",
       "      <td>7</td>\n",
       "      <td>19</td>\n",
       "      <td>3</td>\n",
       "    </tr>\n",
       "  </tbody>\n",
       "</table>\n",
       "</div>"
      ],
      "text/plain": [
       "Employment  Full-Time  Part-Time  Unemployed\n",
       "Gender                                      \n",
       "Female              3         24           6\n",
       "Male                7         19           3"
      ]
     },
     "execution_count": 29,
     "metadata": {},
     "output_type": "execute_result"
    }
   ],
   "source": [
    "# 2.1.3 Gender and Employment\n",
    "\n",
    "pd.crosstab(survey['Gender'],survey['Employment'] )"
   ]
  },
  {
   "cell_type": "code",
   "execution_count": 30,
   "metadata": {},
   "outputs": [
    {
     "data": {
      "text/html": [
       "<div>\n",
       "<style scoped>\n",
       "    .dataframe tbody tr th:only-of-type {\n",
       "        vertical-align: middle;\n",
       "    }\n",
       "\n",
       "    .dataframe tbody tr th {\n",
       "        vertical-align: top;\n",
       "    }\n",
       "\n",
       "    .dataframe thead th {\n",
       "        text-align: right;\n",
       "    }\n",
       "</style>\n",
       "<table border=\"1\" class=\"dataframe\">\n",
       "  <thead>\n",
       "    <tr style=\"text-align: right;\">\n",
       "      <th>Computer</th>\n",
       "      <th>Desktop</th>\n",
       "      <th>Laptop</th>\n",
       "      <th>Tablet</th>\n",
       "    </tr>\n",
       "    <tr>\n",
       "      <th>Gender</th>\n",
       "      <th></th>\n",
       "      <th></th>\n",
       "      <th></th>\n",
       "    </tr>\n",
       "  </thead>\n",
       "  <tbody>\n",
       "    <tr>\n",
       "      <th>Female</th>\n",
       "      <td>2</td>\n",
       "      <td>29</td>\n",
       "      <td>2</td>\n",
       "    </tr>\n",
       "    <tr>\n",
       "      <th>Male</th>\n",
       "      <td>3</td>\n",
       "      <td>26</td>\n",
       "      <td>0</td>\n",
       "    </tr>\n",
       "  </tbody>\n",
       "</table>\n",
       "</div>"
      ],
      "text/plain": [
       "Computer  Desktop  Laptop  Tablet\n",
       "Gender                           \n",
       "Female          2      29       2\n",
       "Male            3      26       0"
      ]
     },
     "execution_count": 30,
     "metadata": {},
     "output_type": "execute_result"
    }
   ],
   "source": [
    "# 2.1.4 Gender and Computer\n",
    "pd.crosstab(survey['Gender'],survey['Computer'] )"
   ]
  },
  {
   "cell_type": "markdown",
   "metadata": {},
   "source": [
    "<b> 2.2. Assume that the sample is a representative of the population of CMSU. Based on the data, answer the following question: What is the probability that a randomly selected CMSU student will be male? What is the probability that a randomly selected CMSU student will be female? <b>"
   ]
  },
  {
   "cell_type": "code",
   "execution_count": 31,
   "metadata": {},
   "outputs": [
    {
     "name": "stdout",
     "output_type": "stream",
     "text": [
      "Female    33\n",
      "Male      29\n",
      "Name: Gender, dtype: int64\n",
      "Probability of randomly selected CMSU student will be male is: 0.47\n"
     ]
    }
   ],
   "source": [
    "# 2.2.1 What is the probability that a randomly selected CMSU student will be male?\n",
    "\n",
    "print(survey['Gender'].value_counts())\n",
    "\n",
    "prob_male = (survey['Gender'].value_counts()[1] / survey['Gender'].count()).round(2)\n",
    "print('Probability of randomly selected CMSU student will be male is:', prob_male)"
   ]
  },
  {
   "cell_type": "code",
   "execution_count": 32,
   "metadata": {},
   "outputs": [
    {
     "name": "stdout",
     "output_type": "stream",
     "text": [
      "Probability of randomly selected CMSU student will be female is: 0.53\n"
     ]
    }
   ],
   "source": [
    "# 2.2.2 What is the probability that a randomly selected CMSU student will be female?\n",
    "\n",
    "print('Probability of randomly selected CMSU student will be female is:', 1-prob_male)"
   ]
  },
  {
   "cell_type": "markdown",
   "metadata": {},
   "source": [
    "<b> 2.3 Assume that the sample is a representative of the population of CMSU. Based on the data, answer the following question: Find the conditional probability of different majors among the male students in CMSU. Find the conditional probability of different majors among the female students of CMSU. <b>"
   ]
  },
  {
   "cell_type": "code",
   "execution_count": 33,
   "metadata": {},
   "outputs": [
    {
     "data": {
      "text/html": [
       "<div>\n",
       "<style scoped>\n",
       "    .dataframe tbody tr th:only-of-type {\n",
       "        vertical-align: middle;\n",
       "    }\n",
       "\n",
       "    .dataframe tbody tr th {\n",
       "        vertical-align: top;\n",
       "    }\n",
       "\n",
       "    .dataframe thead th {\n",
       "        text-align: right;\n",
       "    }\n",
       "</style>\n",
       "<table border=\"1\" class=\"dataframe\">\n",
       "  <thead>\n",
       "    <tr style=\"text-align: right;\">\n",
       "      <th>Major</th>\n",
       "      <th>Accounting</th>\n",
       "      <th>CIS</th>\n",
       "      <th>Economics/Finance</th>\n",
       "      <th>International Business</th>\n",
       "      <th>Management</th>\n",
       "      <th>Other</th>\n",
       "      <th>Retailing/Marketing</th>\n",
       "      <th>Undecided</th>\n",
       "    </tr>\n",
       "    <tr>\n",
       "      <th>Gender</th>\n",
       "      <th></th>\n",
       "      <th></th>\n",
       "      <th></th>\n",
       "      <th></th>\n",
       "      <th></th>\n",
       "      <th></th>\n",
       "      <th></th>\n",
       "      <th></th>\n",
       "    </tr>\n",
       "  </thead>\n",
       "  <tbody>\n",
       "    <tr>\n",
       "      <th>Female</th>\n",
       "      <td>3</td>\n",
       "      <td>3</td>\n",
       "      <td>7</td>\n",
       "      <td>4</td>\n",
       "      <td>4</td>\n",
       "      <td>3</td>\n",
       "      <td>9</td>\n",
       "      <td>0</td>\n",
       "    </tr>\n",
       "    <tr>\n",
       "      <th>Male</th>\n",
       "      <td>4</td>\n",
       "      <td>1</td>\n",
       "      <td>4</td>\n",
       "      <td>2</td>\n",
       "      <td>6</td>\n",
       "      <td>4</td>\n",
       "      <td>5</td>\n",
       "      <td>3</td>\n",
       "    </tr>\n",
       "  </tbody>\n",
       "</table>\n",
       "</div>"
      ],
      "text/plain": [
       "Major   Accounting  CIS  Economics/Finance  International Business  \\\n",
       "Gender                                                               \n",
       "Female           3    3                  7                       4   \n",
       "Male             4    1                  4                       2   \n",
       "\n",
       "Major   Management  Other  Retailing/Marketing  Undecided  \n",
       "Gender                                                     \n",
       "Female           4      3                    9          0  \n",
       "Male             6      4                    5          3  "
      ]
     },
     "execution_count": 33,
     "metadata": {},
     "output_type": "execute_result"
    }
   ],
   "source": [
    "major = pd.crosstab(survey['Gender'],survey['Major'] )\n",
    "major"
   ]
  },
  {
   "cell_type": "code",
   "execution_count": 34,
   "metadata": {},
   "outputs": [
    {
     "name": "stdout",
     "output_type": "stream",
     "text": [
      "Out of total male students, the conditional probability of different majors in CMSU is as follows: \n",
      " \n",
      "Conditional probability of Accounting major among male students:  0.14\n",
      "Conditional probability of CIS major among male students:  0.03\n",
      "Conditional probability of Economics/Finance major among male students:  0.14\n",
      "Conditional probability of International Business major among male students:  0.07\n",
      "Conditional probability of Management major among male students:  0.21\n",
      "Conditional probability of Other majors among male students:  0.14\n",
      "Conditional probability of Marketing/Retailing major among male students:  0.17\n",
      "Conditional probability of Undecided among male students:  0.1\n"
     ]
    }
   ],
   "source": [
    "male_acc = (major['Accounting'][1] / 29).round(2)\n",
    "male_cis = (major['CIS'][1] / 29).round(2)\n",
    "male_eco = (major['Economics/Finance'][1] / 29).round(2)\n",
    "male_bus = (major['International Business'][1] / 29).round(2)\n",
    "male_mgmt = (major['Management'][1] / 29).round(2)\n",
    "male_oth = (major['Other'][1] / 29).round(2)\n",
    "male_mrkt = (major['Retailing/Marketing'][1] / 29).round(2)\n",
    "male_und = (major['Undecided'][1] / 29).round(2)\n",
    "\n",
    "print('Out of total male students, the conditional probability of different majors in CMSU is as follows: \\n ')\n",
    "print('Conditional probability of Accounting major among male students: ',male_acc)\n",
    "print('Conditional probability of CIS major among male students: ',male_cis)\n",
    "print('Conditional probability of Economics/Finance major among male students: ',male_eco)\n",
    "print('Conditional probability of International Business major among male students: ',male_bus)\n",
    "print('Conditional probability of Management major among male students: ',male_mgmt)\n",
    "print('Conditional probability of Other majors among male students: ',male_oth)\n",
    "print('Conditional probability of Marketing/Retailing major among male students: ',male_mrkt)\n",
    "print('Conditional probability of Undecided among male students: ',male_und)"
   ]
  },
  {
   "cell_type": "code",
   "execution_count": 35,
   "metadata": {},
   "outputs": [
    {
     "name": "stdout",
     "output_type": "stream",
     "text": [
      "Out of total female students, the conditional probability of different majors in CMSU is as follows: \n",
      " \n",
      "Conditional probability of Accounting major among female students:  0.09\n",
      "Conditional probability of CIS major among female students:  0.09\n",
      "Conditional probability of Economics/Finance major among female students:  0.21\n",
      "Conditional probability of International Business major among female students:  0.12\n",
      "Conditional probability of Management major among female students:  0.12\n",
      "Conditional probability of Other majors among female students:  0.09\n",
      "Conditional probability of Marketing/Retailing major among female students:  0.27\n",
      "Conditional probability of Undecided among febmale students:  0.0\n"
     ]
    }
   ],
   "source": [
    "female_acc = (major['Accounting'][0] / 33).round(2)\n",
    "female_cis = (major['CIS'][0] / 33).round(2)\n",
    "female_eco = (major['Economics/Finance'][0] / 33).round(2)\n",
    "female_bus = (major['International Business'][0] / 33).round(2)\n",
    "female_mgmt = (major['Management'][0] / 33).round(2)\n",
    "female_oth = (major['Other'][0] / 33).round(2)\n",
    "female_mrkt = (major['Retailing/Marketing'][0] / 33).round(2)\n",
    "female_und = (major['Undecided'][0] / 33).round(2)\n",
    "\n",
    "print('Out of total female students, the conditional probability of different majors in CMSU is as follows: \\n ')\n",
    "print('Conditional probability of Accounting major among female students: ',female_acc)\n",
    "print('Conditional probability of CIS major among female students: ',female_cis)\n",
    "print('Conditional probability of Economics/Finance major among female students: ',female_eco)\n",
    "print('Conditional probability of International Business major among female students: ',female_bus)\n",
    "print('Conditional probability of Management major among female students: ',female_mgmt)\n",
    "print('Conditional probability of Other majors among female students: ',female_oth)\n",
    "print('Conditional probability of Marketing/Retailing major among female students: ',female_mrkt)\n",
    "print('Conditional probability of Undecided among febmale students: ',female_und)"
   ]
  },
  {
   "cell_type": "markdown",
   "metadata": {},
   "source": [
    "<b> 2.4 Assume that the sample is a representative of the population of CMSU. Based on the data, answer the following question: a) Find the probability That a randomly chosen student is a male and intends to graduate. b) Find the probability that a randomly selected student is a female and does NOT have a laptop. <b>"
   ]
  },
  {
   "cell_type": "code",
   "execution_count": 36,
   "metadata": {},
   "outputs": [
    {
     "name": "stdout",
     "output_type": "stream",
     "text": [
      "Grad Intention  No  Undecided  Yes\n",
      "Gender                            \n",
      "Female           9         13   11\n",
      "Male             3          9   17\n",
      "Probability that a randomly chosen student is a male and intends to graduate:  0.27 \n",
      "\n",
      "Computer  Desktop  Laptop  Tablet\n",
      "Gender                           \n",
      "Female          2      29       2\n",
      "Male            3      26       0\n",
      "Probability that a randomly selected student is a female and does not have a laptop:  0.06\n"
     ]
    }
   ],
   "source": [
    "# a) Find the probability That a randomly chosen student is a male and intends to graduate. \n",
    "\n",
    "grad = pd.crosstab(survey['Gender'],survey['Grad Intention'] )\n",
    "print(grad)\n",
    "print('Probability that a randomly chosen student is a male and intends to graduate: ', (grad['Yes'][1] / 62).round(2),'\\n')\n",
    "\n",
    "# b) Find the probability that a randomly selected student is a female and does NOT have a laptop.\n",
    "\n",
    "comp = pd.crosstab(survey['Gender'],survey['Computer'] )\n",
    "print(comp)\n",
    "print('Probability that a randomly selected student is a female and does not have a laptop: ',((comp['Desktop'][0]+comp['Tablet'][0])/62).round(2))"
   ]
  },
  {
   "cell_type": "markdown",
   "metadata": {},
   "source": [
    "<b> 2.5 Assume that the sample is a representative of the population of CMSU. Based on the data, answer the following question: a) Find the probability that a randomly chosen student is either a male or has a full-time employment? b) Find the conditional probability that given a female student is randomly chosen, she is majoring in international business or management. <b>"
   ]
  },
  {
   "cell_type": "code",
   "execution_count": 37,
   "metadata": {},
   "outputs": [
    {
     "name": "stdout",
     "output_type": "stream",
     "text": [
      "Employment  Full-Time  Part-Time  Unemployed\n",
      "Gender                                      \n",
      "Female              3         24           6\n",
      "Male                7         19           3\n",
      "Probability that randomly chosen student is a male:  0.47\n",
      "Probability that randomly chosen student has full-time employment: 0.16\n",
      "Probability that randomly chosen student is a male and has a full time employment: 0.11 \n",
      "\n",
      "Probability that a randomly chosen student is either a male or has a full-time employment:  0.52\n"
     ]
    }
   ],
   "source": [
    "# a) Find the probability that a randomly chosen student is either a male or has a full-time employment?\n",
    "\n",
    "emp = pd.crosstab(survey['Gender'],survey['Employment'] )\n",
    "print(emp)\n",
    "prob_fullemp = 10 / 62\n",
    "prob_maleandfullemp = 7 / 62\n",
    "print('Probability that randomly chosen student is a male: ', prob_male)\n",
    "print('Probability that randomly chosen student has full-time employment: %.2f' %(prob_fullemp))\n",
    "print('Probability that randomly chosen student is a male and has a full time employment: %.2f' %(prob_maleandfullemp),'\\n' )\n",
    "print('Probability that a randomly chosen student is either a male or has a full-time employment: ', (prob_male + prob_fullemp - prob_maleandfullemp).round(2) )\n"
   ]
  },
  {
   "cell_type": "code",
   "execution_count": 38,
   "metadata": {},
   "outputs": [
    {
     "name": "stdout",
     "output_type": "stream",
     "text": [
      "Female students selecting international business or management:  8\n",
      "Total female students:  33 \n",
      "\n",
      "Conditional probability that given a female student is randomly chosen, she is majoring in international business or management: 0.24\n"
     ]
    }
   ],
   "source": [
    "# b) Find the conditional probability that given a female student is randomly chosen, she is majoring in international business or management.\n",
    "\n",
    "print('Female students selecting international business or management: ' ,8)\n",
    "print('Total female students: ', 33 ,'\\n')\n",
    "print('Conditional probability that given a female student is randomly chosen, she is majoring in international business or management: %.2f' %(8/33))\n"
   ]
  },
  {
   "cell_type": "markdown",
   "metadata": {},
   "source": [
    "<b> 2.6 Construct a contingency table of Gender and Intent to Graduate at 2 levels (Yes/No). The Undecided students are not considered now and the table is a 2x2 table. Do you think graduate intention and being female are independent events? <b>"
   ]
  },
  {
   "cell_type": "code",
   "execution_count": 39,
   "metadata": {},
   "outputs": [
    {
     "name": "stdout",
     "output_type": "stream",
     "text": [
      "Grad Intention  No  Yes\n",
      "Gender                 \n",
      "Female           9   11\n",
      "Male             3   17\n",
      "Event A: Graduate intention:  0.7\n",
      "Event B: Being a female:  0.5\n",
      "Grad intention and female:  0.275\n",
      "Probability of event A * Probability of event B:  0.35\n"
     ]
    }
   ],
   "source": [
    "del(grad['Undecided']) #deleting the undecided column from grad\n",
    "\n",
    "print(grad)\n",
    "\n",
    "print('Event A: Graduate intention: ', (28 / 40))\n",
    "print('Event B: Being a female: ', (20/40))\n",
    "\n",
    "print('Grad intention and female: ',(11/40))\n",
    "\n",
    "print('Probability of event A * Probability of event B: ', (0.7 * 0.5))"
   ]
  },
  {
   "cell_type": "markdown",
   "metadata": {},
   "source": [
    "###### Since the P(A-Grad intention) * P(B-Female) is not equal to the P(Grad intention and female), We can say that these two events are dependent events"
   ]
  },
  {
   "cell_type": "markdown",
   "metadata": {},
   "source": [
    "<b> 2.7 Note that there are four numerical (continuous) variables in the data set, GPA, Salary, Spending and Text Messages. Answer the following questions based on the data a) If a student is chosen randomly, what is the probability that his/her GPA is less than 3? b) Find conditional probability that a randomly selected male earns 50 or more. Find conditional probability that a randomly selected female earns 50 or more. <b>"
   ]
  },
  {
   "cell_type": "code",
   "execution_count": 40,
   "metadata": {},
   "outputs": [
    {
     "name": "stdout",
     "output_type": "stream",
     "text": [
      "Probability that randomly chosen student GPA is less than 3:  0.27\n"
     ]
    }
   ],
   "source": [
    "# a) If a student is chosen randomly, what is the probability that his/her GPA is less than 3?\n",
    "\n",
    "gpa_lessthan3 = survey['GPA'][survey['GPA'] < 3].count()\n",
    "print('Probability that randomly chosen student GPA is less than 3: ',(gpa_lessthan3 / 62).round(2) )"
   ]
  },
  {
   "cell_type": "code",
   "execution_count": 41,
   "metadata": {},
   "outputs": [
    {
     "name": "stdout",
     "output_type": "stream",
     "text": [
      "Conditional probability that a randomly selected male earns 50 or more:  0.48\n",
      "Conditional probability that a randomly selected female earns 50 or more:  0.55\n"
     ]
    }
   ],
   "source": [
    "# b) Find conditional probability that a randomly selected male earns 50 or more.\n",
    "\n",
    "male_salary = survey[['Gender','Salary']][survey.Gender == 'Male'][survey.Salary >= 50].count()[0]\n",
    "print('Conditional probability that a randomly selected male earns 50 or more: ', (male_salary / 29).round(2))\n",
    "\n",
    "# Find conditional probability that a randomly selected female earns 50 or more.\n",
    "\n",
    "female_salary = survey[['Gender','Salary']][survey.Gender == 'Female'][survey.Salary >= 50].count()[0]\n",
    "print('Conditional probability that a randomly selected female earns 50 or more: ', (female_salary / 33).round(2))\n"
   ]
  },
  {
   "cell_type": "markdown",
   "metadata": {},
   "source": [
    "<b> 2.8 Note that there are four numerical (continuous) variables in the data set, GPA, Salary, Spending and Text Messages. For each of them comment whether they follow a normal distribution. Write a note summarizing your conclusions. <b>"
   ]
  },
  {
   "cell_type": "code",
   "execution_count": 42,
   "metadata": {
    "scrolled": false
   },
   "outputs": [
    {
     "data": {
      "image/png": "[encoded data removed]",
      "text/plain": [
       "<Figure size 1440x720 with 4 Axes>"
      ]
     },
     "metadata": {},
     "output_type": "display_data"
    }
   ],
   "source": [
    "# Distplot for determining whether the continuous variables follow normal distribution\n",
    "\n",
    "fig, ax = plt.subplots(2,2, figsize= (20,10))\n",
    "sns.set(font_scale = 0.8)\n",
    "\n",
    "sns.distplot(survey.GPA ,ax = ax[0][0]);\n",
    "sns.distplot(survey.Salary, ax = ax[0][1]);\n",
    "sns.distplot(survey.Spending, ax = ax[1][0]);\n",
    "sns.distplot(survey['Text Messages'], ax = ax[1][1]);"
   ]
  },
  {
   "cell_type": "code",
   "execution_count": 43,
   "metadata": {},
   "outputs": [
    {
     "name": "stdout",
     "output_type": "stream",
     "text": [
      "p ( 0.112 ) > alpha (0.05), hence the continuous variable GPA is normally distributed\n",
      "p ( 0.028 ) < alpha (0.05), hence the continuous variable Salary is not normally distributed\n",
      "p ( 0.000 ) < alpha (0.05), hence the continuous variable Spending is not normally distributed\n",
      "p ( 0.000 ) < alpha (0.05), hence the continuous variable Text messages is not normally distributed \n",
      "\n",
      "Skew of GPA: -0.31\n",
      "Skew of Salary: 0.52\n",
      "Skew of Spending: 1.55\n",
      "Skew of Text Messages: 1.26\n"
     ]
    }
   ],
   "source": [
    "# Shapiro test to confirm normal distribution\n",
    "# p-value > alpha (0.05), Normal Distribution\n",
    "# p-value < alpha (0.05), Not normal distribution\n",
    "\n",
    "from scipy.stats import shapiro\n",
    "\n",
    "stat, p = shapiro(survey.GPA)\n",
    "print('p ( %.3f'%(p),') > alpha (0.05), hence the continuous variable GPA is normally distributed') \n",
    "stat, p = shapiro(survey.Salary)\n",
    "print('p ( %.3f'%p,') < alpha (0.05), hence the continuous variable Salary is not normally distributed')\n",
    "stat, p = shapiro(survey.Spending)\n",
    "print('p ( %.3f'%p,') < alpha (0.05), hence the continuous variable Spending is not normally distributed')\n",
    "stat, p = shapiro(survey['Text Messages'])\n",
    "print('p ( %.3f'%p,') < alpha (0.05), hence the continuous variable Text messages is not normally distributed \\n')\n",
    "\n",
    "# Find the skewness of the variable\n",
    "# If the value is greater than '+1' and less than '-1', highly skewed\n",
    "# If its between (-1 to -0.5) and (0.5 to 1), moderately skewed\n",
    "# If its between(-0.5 to 0.5), it is approximately symmetric\n",
    "\n",
    "print('Skew of GPA: %.2f'%stats.skew(survey.GPA))\n",
    "print('Skew of Salary: %.2f'%stats.skew(survey.Salary))\n",
    "print('Skew of Spending: %.2f'%stats.skew(survey.Spending))\n",
    "print('Skew of Text Messages: %.2f'%stats.skew(survey['Text Messages']))"
   ]
  },
  {
   "cell_type": "markdown",
   "metadata": {},
   "source": [
    "<b> Applying Empirical rule which states that for a normal distribution of a continuous random variable, nearly all of the data will fall within three standard deviations of the mean."
   ]
  },
  {
   "cell_type": "code",
   "execution_count": 90,
   "metadata": {},
   "outputs": [
    {
     "name": "stdout",
     "output_type": "stream",
     "text": [
      "count    62.000000\n",
      "mean      3.129032\n",
      "std       0.377388\n",
      "min       2.300000\n",
      "25%       2.900000\n",
      "50%       3.150000\n",
      "75%       3.400000\n",
      "max       3.900000\n",
      "Name: GPA, dtype: float64\n",
      "GPA variable:\n",
      "Approximately 68.27 % of the data falls within one standard deviation from the mean\n",
      "Approximately 95.45 % of the data falls within two standard deviation from the mean\n",
      "Approximately 99.73 % of the data falls within three standard deviation from the mean\n"
     ]
    }
   ],
   "source": [
    "# For GPA continuous variable\n",
    "\n",
    "print(survey['GPA'].describe())\n",
    "mean = survey['GPA'].mean()\n",
    "sd = survey['GPA'].std()\n",
    "\n",
    "print('GPA variable:')\n",
    "a = mean + sd\n",
    "b = mean - sd\n",
    "print('Approximately %.2f'%((stats.norm.cdf(a,mean,sd) - stats.norm.cdf(b,mean,sd))*100) ,'% of the data falls within one standard deviation from the mean')\n",
    "\n",
    "a = mean + (2*sd)\n",
    "b = mean - (2*sd)\n",
    "print('Approximately %.2f'%((stats.norm.cdf(a,mean,sd) - stats.norm.cdf(b,mean,sd))*100) ,'% of the data falls within two standard deviation from the mean')\n",
    "\n",
    "a = mean + (3*sd)\n",
    "b = mean - (3*sd)\n",
    "print('Approximately %.2f'%((stats.norm.cdf(a,mean,sd) - stats.norm.cdf(b,mean,sd))*100) ,'% of the data falls within three standard deviation from the mean')"
   ]
  },
  {
   "cell_type": "markdown",
   "metadata": {},
   "source": [
    "#### <u> Problem 3 <u> :\n",
    "\n",
    "##### <u> A & B Shingles<u>\n",
    "\n",
    "###### Problem Statement:\n",
    "        An important quality characteristic used by the manufacturers of ABC asphalt shingles is the amount of moisture the shingles contain when they are packaged. Customers may feel that they have purchased a product lacking in quality if they find moisture and wet shingles inside the packaging.   In some cases, excessive moisture can cause the granules attached to the shingles for texture and colouring purposes to fall off the shingles resulting in appearance problems. To monitor the amount of moisture present, the company conducts moisture tests. A shingle is weighed and then dried. The shingle is then reweighed, and based on the amount of moisture taken out of the product, the pounds of moisture per 100 square feet are calculated. The company would like to show that the mean moisture content is less than 0.35 pound per 100 square feet.The file (A & B shingles.csv) includes 36 measurements (in pounds per 100 square feet) for A shingles and 31 for B shingles"
   ]
  },
  {
   "cell_type": "code",
   "execution_count": 91,
   "metadata": {},
   "outputs": [
    {
     "data": {
      "text/html": [
       "<div>\n",
       "<style scoped>\n",
       "    .dataframe tbody tr th:only-of-type {\n",
       "        vertical-align: middle;\n",
       "    }\n",
       "\n",
       "    .dataframe tbody tr th {\n",
       "        vertical-align: top;\n",
       "    }\n",
       "\n",
       "    .dataframe thead th {\n",
       "        text-align: right;\n",
       "    }\n",
       "</style>\n",
       "<table border=\"1\" class=\"dataframe\">\n",
       "  <thead>\n",
       "    <tr style=\"text-align: right;\">\n",
       "      <th></th>\n",
       "      <th>A</th>\n",
       "      <th>B</th>\n",
       "    </tr>\n",
       "  </thead>\n",
       "  <tbody>\n",
       "    <tr>\n",
       "      <th>0</th>\n",
       "      <td>0.44</td>\n",
       "      <td>0.14</td>\n",
       "    </tr>\n",
       "    <tr>\n",
       "      <th>1</th>\n",
       "      <td>0.61</td>\n",
       "      <td>0.15</td>\n",
       "    </tr>\n",
       "    <tr>\n",
       "      <th>2</th>\n",
       "      <td>0.47</td>\n",
       "      <td>0.31</td>\n",
       "    </tr>\n",
       "    <tr>\n",
       "      <th>3</th>\n",
       "      <td>0.30</td>\n",
       "      <td>0.16</td>\n",
       "    </tr>\n",
       "    <tr>\n",
       "      <th>4</th>\n",
       "      <td>0.15</td>\n",
       "      <td>0.37</td>\n",
       "    </tr>\n",
       "  </tbody>\n",
       "</table>\n",
       "</div>"
      ],
      "text/plain": [
       "      A     B\n",
       "0  0.44  0.14\n",
       "1  0.61  0.15\n",
       "2  0.47  0.31\n",
       "3  0.30  0.16\n",
       "4  0.15  0.37"
      ]
     },
     "execution_count": 91,
     "metadata": {},
     "output_type": "execute_result"
    }
   ],
   "source": [
    "# Load the Wholesale distributer dataset\n",
    "\n",
    "shingles = pd.read_csv('A & B shingles-1.csv')\n",
    "shingles.head() # check whether the data is loaded correctly\n"
   ]
  },
  {
   "cell_type": "code",
   "execution_count": 92,
   "metadata": {},
   "outputs": [
    {
     "data": {
      "text/html": [
       "<div>\n",
       "<style scoped>\n",
       "    .dataframe tbody tr th:only-of-type {\n",
       "        vertical-align: middle;\n",
       "    }\n",
       "\n",
       "    .dataframe tbody tr th {\n",
       "        vertical-align: top;\n",
       "    }\n",
       "\n",
       "    .dataframe thead th {\n",
       "        text-align: right;\n",
       "    }\n",
       "</style>\n",
       "<table border=\"1\" class=\"dataframe\">\n",
       "  <thead>\n",
       "    <tr style=\"text-align: right;\">\n",
       "      <th></th>\n",
       "      <th>A</th>\n",
       "      <th>B</th>\n",
       "    </tr>\n",
       "  </thead>\n",
       "  <tbody>\n",
       "    <tr>\n",
       "      <th>count</th>\n",
       "      <td>36.000000</td>\n",
       "      <td>31.000000</td>\n",
       "    </tr>\n",
       "    <tr>\n",
       "      <th>mean</th>\n",
       "      <td>0.316667</td>\n",
       "      <td>0.273548</td>\n",
       "    </tr>\n",
       "    <tr>\n",
       "      <th>std</th>\n",
       "      <td>0.135731</td>\n",
       "      <td>0.137296</td>\n",
       "    </tr>\n",
       "    <tr>\n",
       "      <th>min</th>\n",
       "      <td>0.130000</td>\n",
       "      <td>0.100000</td>\n",
       "    </tr>\n",
       "    <tr>\n",
       "      <th>25%</th>\n",
       "      <td>0.207500</td>\n",
       "      <td>0.160000</td>\n",
       "    </tr>\n",
       "    <tr>\n",
       "      <th>50%</th>\n",
       "      <td>0.290000</td>\n",
       "      <td>0.230000</td>\n",
       "    </tr>\n",
       "    <tr>\n",
       "      <th>75%</th>\n",
       "      <td>0.392500</td>\n",
       "      <td>0.400000</td>\n",
       "    </tr>\n",
       "    <tr>\n",
       "      <th>max</th>\n",
       "      <td>0.720000</td>\n",
       "      <td>0.580000</td>\n",
       "    </tr>\n",
       "  </tbody>\n",
       "</table>\n",
       "</div>"
      ],
      "text/plain": [
       "               A          B\n",
       "count  36.000000  31.000000\n",
       "mean    0.316667   0.273548\n",
       "std     0.135731   0.137296\n",
       "min     0.130000   0.100000\n",
       "25%     0.207500   0.160000\n",
       "50%     0.290000   0.230000\n",
       "75%     0.392500   0.400000\n",
       "max     0.720000   0.580000"
      ]
     },
     "execution_count": 92,
     "metadata": {},
     "output_type": "execute_result"
    }
   ],
   "source": [
    "shingles.describe()"
   ]
  },
  {
   "cell_type": "markdown",
   "metadata": {},
   "source": [
    "<b> From looking at the descriptive statistics of the data, we can say that both the shingles are within permissable limits, since the mean of both (A - 0.31 and B - 0.27) is less than 0.35 pound per 100 square feet. But we cannot be sure whether it is statistically significant. <b>"
   ]
  },
  {
   "cell_type": "code",
   "execution_count": 93,
   "metadata": {},
   "outputs": [
    {
     "data": {
      "image/png": "[encoded data removed]",
      "text/plain": [
       "<Figure size 720x576 with 2 Axes>"
      ]
     },
     "metadata": {},
     "output_type": "display_data"
    }
   ],
   "source": [
    "fig,ax = plt.subplots(2, figsize = (10,8))\n",
    "sns.distplot(shingles.A, ax= ax[0]);\n",
    "sns.distplot(shingles.B, ax = ax[1]);"
   ]
  },
  {
   "cell_type": "markdown",
   "metadata": {},
   "source": [
    "<b> 3.1 Do you think there is evidence that mean moisture contents in both types of shingles are within the permissible limits? State your conclusions clearly showing all steps. <b>"
   ]
  },
  {
   "cell_type": "markdown",
   "metadata": {},
   "source": [
    "<b> To show whether both types of shingles are within the permissible limits (less than 0.35 pound per 100 square feet). We perform one sample T-test for both the shingle types. <b>\n",
    "\n",
    "<b> One sample T-test Assumptions: <b>\n",
    "    - The data is continuous and follows normal distribution.\n",
    "    - Population standard deviation is not known.\n",
    "    - n (sample size) can be small or large.\n",
    "    - The samples are randomly selected, independent and come from a normally distributed population with unknown but equal variances.\n",
    "\n",
    "<b> STEP 1: Define Null and Alternate Hypothesis <b>\n",
    "\n",
    "    In testing the mean moisture contents in both types of shingles are within the permissible limits.\n",
    "\n",
    "- Null hypothesis states that mean moisture contents in both types of shingles are not within the permissible limits, $\\mu$ is equal to 0.35.\n",
    "- Alternative hypothesis states that the mean moisture content is less than 0.35 pound per 100 square feet., $\\mu$ is less than 0.35.\n",
    "\n",
    "* $H_0$: $\\mu$ = 0.35\n",
    "* $H_A$: $\\mu$ $<$ 0.35\n",
    "\n",
    "<b> STEP 2: Decide the significance level <b>\n",
    "        \n",
    "Here we select $\\alpha$ = 0.05."
   ]
  },
  {
   "cell_type": "markdown",
   "metadata": {},
   "source": [
    "<b> STEP 3: Identify the test statistic: <b>\n",
    "\n",
    "We do not know the population standard deviation and n = 36 for shingles A and n = 31 for shingles B. So we use the one sample t test for each shingle seperately and the $t_{STAT}$ test statistic."
   ]
  },
  {
   "cell_type": "markdown",
   "metadata": {},
   "source": [
    "<b> STEP 4: Calculate P-value and test statistic:"
   ]
  },
  {
   "cell_type": "code",
   "execution_count": 94,
   "metadata": {},
   "outputs": [
    {
     "name": "stdout",
     "output_type": "stream",
     "text": [
      "One sample t test for Shingle A\n",
      "t statistic: -1.4735046253382809 p value: 0.07477633144907479 \n"
     ]
    }
   ],
   "source": [
    "xbar = shingles['A'].mean()\n",
    "n = 36\n",
    "mu = 0.35\n",
    "sd = shingles['A'].std()\n",
    "\n",
    "tstat = (xbar - mu) /(sd/(np.sqrt(n)))\n",
    "\n",
    "dof = n-1\n",
    "pA=stats.t.cdf(tstat, df=dof)\n",
    "print('One sample t test for Shingle A\\nt statistic: {0} p value: {1} '.format(tstat, pA))"
   ]
  },
  {
   "cell_type": "code",
   "execution_count": 95,
   "metadata": {},
   "outputs": [
    {
     "name": "stdout",
     "output_type": "stream",
     "text": [
      "One sample t test for Shingle B\n",
      "t statistic: -3.1003313069986995 p value: 0.0020904774003191826 \n"
     ]
    }
   ],
   "source": [
    "tstat,pB=ttest_1samp(shingles.B, 0.35,nan_policy='omit')\n",
    "print('One sample t test for Shingle B\\nt statistic: {0} p value: {1} '.format(tstat, pB/2))"
   ]
  },
  {
   "cell_type": "markdown",
   "metadata": {},
   "source": [
    "<b> STEP 5: Decide to reject or accept Null Hypothesis"
   ]
  },
  {
   "cell_type": "code",
   "execution_count": 96,
   "metadata": {},
   "outputs": [
    {
     "name": "stdout",
     "output_type": "stream",
     "text": [
      "Level of significance: 0.05\n",
      "We have no evidence to reject the null hypothesis since p value > Level of significance\n",
      "Our one-sample t-test p-value for Shingle A =  0.07477633144907479\n"
     ]
    }
   ],
   "source": [
    "# For Shingles A\n",
    "alpha_value = 0.05 # Level of significance\n",
    "print('Level of significance: %.2f' %alpha_value)\n",
    "if pA < alpha_value: \n",
    "    print('We have evidence to reject the null hypothesis since p value < Level of significance')\n",
    "else:\n",
    "    print('We have no evidence to reject the null hypothesis since p value > Level of significance') \n",
    "\n",
    "print (\"Our one-sample t-test p-value for Shingle A = \", pA)"
   ]
  },
  {
   "cell_type": "markdown",
   "metadata": {},
   "source": [
    "Here, p value is 0.07477633 and it is greater than 5% level of significance\n",
    "\n",
    "So the statistical decision is failing to reject the null hypothesis at 5% level of significance.\n",
    "\n",
    "<b> So at 95% confidence level, there is no sufficient evidence to prove that mean moisture contents in shingle A is within the permissible limits."
   ]
  },
  {
   "cell_type": "code",
   "execution_count": 97,
   "metadata": {},
   "outputs": [
    {
     "name": "stdout",
     "output_type": "stream",
     "text": [
      "Level of significance: 0.05\n",
      "We have evidence to reject the null hypothesis since p value < Level of significance\n",
      "Our one-sample t-test p-value for Shingle B =  0.0020904774003191826\n"
     ]
    }
   ],
   "source": [
    "# For Shingles B\n",
    "alpha_value = 0.05 # Level of significance\n",
    "print('Level of significance: %.2f' %alpha_value)\n",
    "if pB < alpha_value: \n",
    "    print('We have evidence to reject the null hypothesis since p value < Level of significance')\n",
    "else:\n",
    "    print('We have no evidence to reject the null hypothesis since p value > Level of significance') \n",
    "\n",
    "print (\"Our one-sample t-test p-value for Shingle B = \", pB/2)"
   ]
  },
  {
   "cell_type": "markdown",
   "metadata": {},
   "source": [
    "Here, p value is 0.002090477 and it is lesser than 5% level of significance\n",
    "\n",
    "So the statistical decision is to reject the null hypothesis.\n",
    "\n",
    "<b> Hence we reject Null Hypothesis and conclude that there is sufficient evidence to prove that mean moisture contents in shingle B is within the permissible limits with 0.2% of being wrong."
   ]
  },
  {
   "cell_type": "markdown",
   "metadata": {},
   "source": [
    "<b> 3.2 Do you think that the population means for shingles A and B are equal? Form the hypothesis and conduct the test of the hypothesis. What assumption do you need to check before the test for equality of means is performed? <b>"
   ]
  },
  {
   "cell_type": "markdown",
   "metadata": {},
   "source": [
    "<b> To show that the population means for shingles A and B are equal, We perform Two sample T-test with independent samples. \n",
    "    \n",
    "Two sample (Independent) T-Test Assumptions:\n",
    "    - The data should be continuous and follow the normal probability distribution.\n",
    "    - Both sample have identical variance.\n",
    "    - The two samples are independent. There is no relationship between the individuals in one sample as compared to the other (as there is in the paired t-test).\n",
    "    - Both samples are simple random samples from their respective populations. Each individual in the population has an equal probability of being selected in the sample.\n",
    "    - Population Standard deviation not known.\n",
    "    \n",
    "STEP 1: Define null and alternate hypothesis\n",
    "    \n",
    "In testing the population means for shingles A and B, the null hypothesis states that the population means for shingles A and B are equal, $\\mu{A}$ equals $\\mu{B}$. The alternative hypothesis states that the population means for shingles A and B are not equal, $\\mu{A}$ is not equal to $\\mu{B}$.\n",
    "\n",
    "* $H_0$: $\\mu{A}$ - $\\mu{B}$ =      0 ; $\\mu{A}$ = $\\mu{B}$\n",
    "* $H_A$: $\\mu{A}$ - $\\mu{B}$ $\\neq$  0 ; $\\mu{A}$ $\\neq$ $\\mu{B}$\n",
    "    \n",
    "    Its a two tailed test.\n",
    "    \n",
    "<b> STEP 2: Decide the significance level <b>\n",
    "        \n",
    "Here we select $\\alpha$ = 0.05.\n"
   ]
  },
  {
   "cell_type": "markdown",
   "metadata": {},
   "source": [
    "<b> STEP 3: Identify the test statistics:\n",
    "    \n",
    "* We have two samples and we do not know the population standard deviation.\n",
    "* Sample sizes for both samples are  different. (n=36 for Shingles A and n=31 for Shingles B)\n",
    "* So using the t distribution and the $t_{STAT}$ test statistic for two sample independent test."
   ]
  },
  {
   "cell_type": "markdown",
   "metadata": {},
   "source": [
    "<b> STEP 4: Calculate the p-value and test statistic"
   ]
  },
  {
   "cell_type": "code",
   "execution_count": 98,
   "metadata": {},
   "outputs": [
    {
     "name": "stdout",
     "output_type": "stream",
     "text": [
      "Mean of A shingles 0.3166666666666666\n",
      "Mean of B shingles 0.2735483870967742\n",
      "STD of A shingles 0.13573082605973166\n",
      "STD of B shingles 0.13729647694185443\n",
      "\n",
      "Two sample independent t test for Shingle A&B\n",
      "t statistic: 1.2896282719661123 p value: 0.2017496571835306 \n"
     ]
    }
   ],
   "source": [
    "print('Mean of A shingles', shingles.A.mean())\n",
    "print('Mean of B shingles', shingles.B.mean())\n",
    "\n",
    "print('STD of A shingles', shingles.A.std())\n",
    "print('STD of B shingles', shingles.B.std())\n",
    "\n",
    "# Two sample T-test results\n",
    "\n",
    "tstat, p = ttest_ind(shingles.A,shingles.B, equal_var = True, nan_policy='omit')\n",
    "print('\\nTwo sample independent t test for Shingle A&B\\nt statistic: {0} p value: {1} '.format(tstat, p))\n"
   ]
  },
  {
   "cell_type": "markdown",
   "metadata": {},
   "source": [
    "<b> STEP 5: Decide to accept or reject Null:"
   ]
  },
  {
   "cell_type": "code",
   "execution_count": 99,
   "metadata": {},
   "outputs": [
    {
     "name": "stdout",
     "output_type": "stream",
     "text": [
      "Two-sample t-test p-value= 0.2017496571835306\n",
      "We do not have enough evidence to reject the null hypothesis in favour of alternative hypothesis\n",
      "We conclude that population means of both the shingles are same.\n"
     ]
    }
   ],
   "source": [
    "# If p_value < 0.05 => alternative hypothesis: they don't have the same mean at the 5% significance level\n",
    "\n",
    "print (\"Two-sample t-test p-value=\", p)\n",
    "\n",
    "alpha_level = 0.05 # Level of significance\n",
    "\n",
    "if p < alpha_level:\n",
    "    print('We have enough evidence to reject the null hypothesis in favour of alternative hypothesis')\n",
    "    print('We conclude that the population means of both the shingles are not same.')\n",
    "else:\n",
    "    print('We do not have enough evidence to reject the null hypothesis in favour of alternative hypothesis')\n",
    "    print('We conclude that population means of both the shingles are same.')"
   ]
  },
  {
   "cell_type": "markdown",
   "metadata": {},
   "source": [
    "<b> Reservations about the test performed: <b>\n",
    "    - If we compare the means of the two sample distribution, we see that there is slight difference in the means, but statistically it does not hold good\n",
    "    - The smaller mean of shingle B can be due to the comparatively less number of measurements.\n",
    "    - The variance of the both the shingles are approximately equal.\n",
    "    - We are unsure of the sampling error present in the data.\n",
    "    - Even though the population means of both are equal, we can say from the above one sample t-test performed that only in Shingle B measurements, mean moisture content is within permissible limits."
   ]
  }
 ],
 "metadata": {
  "kernelspec": {
   "display_name": "Python 3",
   "language": "python",
   "name": "python3"
  },
  "language_info": {
   "codemirror_mode": {
    "name": "ipython",
    "version": 3
   },
   "file_extension": ".py",
   "mimetype": "text/x-python",
   "name": "python",
   "nbconvert_exporter": "python",
   "pygments_lexer": "ipython3",
   "version": "3.7.6"
  }
 },
 "nbformat": 4,
 "nbformat_minor": 4
}
